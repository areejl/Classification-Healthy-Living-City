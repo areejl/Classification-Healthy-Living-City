{
 "cells": [
  {
   "cell_type": "code",
   "execution_count": 184,
   "id": "b145b710",
   "metadata": {},
   "outputs": [
    {
     "data": {
      "text/html": [
       "<div>\n",
       "<style scoped>\n",
       "    .dataframe tbody tr th:only-of-type {\n",
       "        vertical-align: middle;\n",
       "    }\n",
       "\n",
       "    .dataframe tbody tr th {\n",
       "        vertical-align: top;\n",
       "    }\n",
       "\n",
       "    .dataframe thead th {\n",
       "        text-align: right;\n",
       "    }\n",
       "</style>\n",
       "<table border=\"1\" class=\"dataframe\">\n",
       "  <thead>\n",
       "    <tr style=\"text-align: right;\">\n",
       "      <th></th>\n",
       "      <th>City</th>\n",
       "      <th>Rank</th>\n",
       "      <th>Sunshine hours(City)</th>\n",
       "      <th>Cost of a bottle of water(City)</th>\n",
       "      <th>Obesity levels(Country)</th>\n",
       "      <th>Life expectancy(years) (Country)</th>\n",
       "      <th>Pollution(Index score) (City)</th>\n",
       "      <th>Annual avg. hours worked</th>\n",
       "      <th>Happiness levels(Country)</th>\n",
       "      <th>Outdoor activities(City)</th>\n",
       "      <th>Number of take out places(City)</th>\n",
       "      <th>Cost of a monthly gym membership(City)</th>\n",
       "    </tr>\n",
       "  </thead>\n",
       "  <tbody>\n",
       "    <tr>\n",
       "      <th>0</th>\n",
       "      <td>Amsterdam</td>\n",
       "      <td>1</td>\n",
       "      <td>1858.0</td>\n",
       "      <td>£1.92</td>\n",
       "      <td>20.40%</td>\n",
       "      <td>81.2</td>\n",
       "      <td>30.93</td>\n",
       "      <td>1434.0</td>\n",
       "      <td>7.44</td>\n",
       "      <td>422</td>\n",
       "      <td>1048</td>\n",
       "      <td>£34.90</td>\n",
       "    </tr>\n",
       "    <tr>\n",
       "      <th>1</th>\n",
       "      <td>Sydney</td>\n",
       "      <td>2</td>\n",
       "      <td>2636.0</td>\n",
       "      <td>£1.48</td>\n",
       "      <td>29.00%</td>\n",
       "      <td>82.1</td>\n",
       "      <td>26.86</td>\n",
       "      <td>1712.0</td>\n",
       "      <td>7.22</td>\n",
       "      <td>406</td>\n",
       "      <td>1103</td>\n",
       "      <td>£41.66</td>\n",
       "    </tr>\n",
       "    <tr>\n",
       "      <th>2</th>\n",
       "      <td>Vienna</td>\n",
       "      <td>3</td>\n",
       "      <td>1884.0</td>\n",
       "      <td>£1.94</td>\n",
       "      <td>20.10%</td>\n",
       "      <td>81.0</td>\n",
       "      <td>17.33</td>\n",
       "      <td>1501.0</td>\n",
       "      <td>7.29</td>\n",
       "      <td>132</td>\n",
       "      <td>1008</td>\n",
       "      <td>£25.74</td>\n",
       "    </tr>\n",
       "    <tr>\n",
       "      <th>3</th>\n",
       "      <td>Stockholm</td>\n",
       "      <td>4</td>\n",
       "      <td>1821.0</td>\n",
       "      <td>£1.72</td>\n",
       "      <td>20.60%</td>\n",
       "      <td>81.8</td>\n",
       "      <td>19.63</td>\n",
       "      <td>1452.0</td>\n",
       "      <td>7.35</td>\n",
       "      <td>129</td>\n",
       "      <td>598</td>\n",
       "      <td>£37.31</td>\n",
       "    </tr>\n",
       "    <tr>\n",
       "      <th>4</th>\n",
       "      <td>Copenhagen</td>\n",
       "      <td>5</td>\n",
       "      <td>1630.0</td>\n",
       "      <td>£2.19</td>\n",
       "      <td>19.70%</td>\n",
       "      <td>79.8</td>\n",
       "      <td>21.24</td>\n",
       "      <td>1380.0</td>\n",
       "      <td>7.64</td>\n",
       "      <td>154</td>\n",
       "      <td>523</td>\n",
       "      <td>£32.53</td>\n",
       "    </tr>\n",
       "  </tbody>\n",
       "</table>\n",
       "</div>"
      ],
      "text/plain": [
       "         City  Rank  Sunshine hours(City) Cost of a bottle of water(City)  \\\n",
       "0   Amsterdam     1                1858.0                           £1.92   \n",
       "1      Sydney     2                2636.0                           £1.48   \n",
       "2      Vienna     3                1884.0                           £1.94   \n",
       "3   Stockholm     4                1821.0                           £1.72   \n",
       "4  Copenhagen     5                1630.0                           £2.19   \n",
       "\n",
       "  Obesity levels(Country)  Life expectancy(years) (Country)  \\\n",
       "0                  20.40%                              81.2   \n",
       "1                  29.00%                              82.1   \n",
       "2                  20.10%                              81.0   \n",
       "3                  20.60%                              81.8   \n",
       "4                  19.70%                              79.8   \n",
       "\n",
       "   Pollution(Index score) (City)  Annual avg. hours worked  \\\n",
       "0                          30.93                    1434.0   \n",
       "1                          26.86                    1712.0   \n",
       "2                          17.33                    1501.0   \n",
       "3                          19.63                    1452.0   \n",
       "4                          21.24                    1380.0   \n",
       "\n",
       "   Happiness levels(Country)  Outdoor activities(City)  \\\n",
       "0                       7.44                       422   \n",
       "1                       7.22                       406   \n",
       "2                       7.29                       132   \n",
       "3                       7.35                       129   \n",
       "4                       7.64                       154   \n",
       "\n",
       "   Number of take out places(City) Cost of a monthly gym membership(City)  \n",
       "0                             1048                                 £34.90  \n",
       "1                             1103                                 £41.66  \n",
       "2                             1008                                 £25.74  \n",
       "3                              598                                 £37.31  \n",
       "4                              523                                 £32.53  "
      ]
     },
     "execution_count": 184,
     "metadata": {},
     "output_type": "execute_result"
    }
   ],
   "source": [
    "#Import necessary libraries \n",
    "import pandas as pd \n",
    "import numpy as np \n",
    "import matplotlib.pyplot as plt \n",
    "import pandas as pd\n",
    "\n",
    "#read data and show head\n",
    "df = pd.read_csv(\"healthy_lifestyle_city_2021.csv\")\n",
    "df.head()"
   ]
  },
  {
   "cell_type": "code",
   "execution_count": 185,
   "id": "7138b9d3",
   "metadata": {},
   "outputs": [
    {
     "name": "stdout",
     "output_type": "stream",
     "text": [
      "<class 'pandas.core.frame.DataFrame'>\n",
      "RangeIndex: 44 entries, 0 to 43\n",
      "Data columns (total 12 columns):\n",
      " #   Column                                  Non-Null Count  Dtype  \n",
      "---  ------                                  --------------  -----  \n",
      " 0   City                                    44 non-null     object \n",
      " 1   Rank                                    44 non-null     int64  \n",
      " 2   Sunshine hours(City)                    43 non-null     float64\n",
      " 3   Cost of a bottle of water(City)         44 non-null     object \n",
      " 4   Obesity levels(Country)                 44 non-null     object \n",
      " 5   Life expectancy(years) (Country)        44 non-null     float64\n",
      " 6   Pollution(Index score) (City)           43 non-null     float64\n",
      " 7   Annual avg. hours worked                33 non-null     float64\n",
      " 8   Happiness levels(Country)               44 non-null     float64\n",
      " 9   Outdoor activities(City)                44 non-null     int64  \n",
      " 10  Number of take out places(City)         44 non-null     int64  \n",
      " 11  Cost of a monthly gym membership(City)  44 non-null     object \n",
      "dtypes: float64(5), int64(3), object(4)\n",
      "memory usage: 4.2+ KB\n"
     ]
    }
   ],
   "source": [
    "#Exploring the data\n",
    "df.info()"
   ]
  },
  {
   "cell_type": "code",
   "execution_count": 186,
   "id": "7d45a170",
   "metadata": {
    "scrolled": true
   },
   "outputs": [
    {
     "data": {
      "text/html": [
       "<div>\n",
       "<style scoped>\n",
       "    .dataframe tbody tr th:only-of-type {\n",
       "        vertical-align: middle;\n",
       "    }\n",
       "\n",
       "    .dataframe tbody tr th {\n",
       "        vertical-align: top;\n",
       "    }\n",
       "\n",
       "    .dataframe thead th {\n",
       "        text-align: right;\n",
       "    }\n",
       "</style>\n",
       "<table border=\"1\" class=\"dataframe\">\n",
       "  <thead>\n",
       "    <tr style=\"text-align: right;\">\n",
       "      <th></th>\n",
       "      <th>Rank</th>\n",
       "      <th>Sunshine hours(City)</th>\n",
       "      <th>Life expectancy(years) (Country)</th>\n",
       "      <th>Pollution(Index score) (City)</th>\n",
       "      <th>Annual avg. hours worked</th>\n",
       "      <th>Happiness levels(Country)</th>\n",
       "      <th>Outdoor activities(City)</th>\n",
       "      <th>Number of take out places(City)</th>\n",
       "    </tr>\n",
       "  </thead>\n",
       "  <tbody>\n",
       "    <tr>\n",
       "      <th>count</th>\n",
       "      <td>44.000000</td>\n",
       "      <td>43.000000</td>\n",
       "      <td>44.00000</td>\n",
       "      <td>43.000000</td>\n",
       "      <td>33.000000</td>\n",
       "      <td>44.000000</td>\n",
       "      <td>44.000000</td>\n",
       "      <td>44.000000</td>\n",
       "    </tr>\n",
       "    <tr>\n",
       "      <th>mean</th>\n",
       "      <td>22.500000</td>\n",
       "      <td>2245.860465</td>\n",
       "      <td>78.17500</td>\n",
       "      <td>51.122326</td>\n",
       "      <td>1672.909091</td>\n",
       "      <td>6.435000</td>\n",
       "      <td>213.977273</td>\n",
       "      <td>1443.113636</td>\n",
       "    </tr>\n",
       "    <tr>\n",
       "      <th>std</th>\n",
       "      <td>12.845233</td>\n",
       "      <td>567.403719</td>\n",
       "      <td>5.30437</td>\n",
       "      <td>21.856190</td>\n",
       "      <td>179.626933</td>\n",
       "      <td>0.991202</td>\n",
       "      <td>127.190297</td>\n",
       "      <td>1388.803270</td>\n",
       "    </tr>\n",
       "    <tr>\n",
       "      <th>min</th>\n",
       "      <td>1.000000</td>\n",
       "      <td>1405.000000</td>\n",
       "      <td>56.30000</td>\n",
       "      <td>13.080000</td>\n",
       "      <td>1380.000000</td>\n",
       "      <td>3.570000</td>\n",
       "      <td>23.000000</td>\n",
       "      <td>250.000000</td>\n",
       "    </tr>\n",
       "    <tr>\n",
       "      <th>25%</th>\n",
       "      <td>11.750000</td>\n",
       "      <td>1798.500000</td>\n",
       "      <td>75.40000</td>\n",
       "      <td>34.355000</td>\n",
       "      <td>1540.000000</td>\n",
       "      <td>5.870000</td>\n",
       "      <td>125.250000</td>\n",
       "      <td>548.000000</td>\n",
       "    </tr>\n",
       "    <tr>\n",
       "      <th>50%</th>\n",
       "      <td>22.500000</td>\n",
       "      <td>2066.000000</td>\n",
       "      <td>80.40000</td>\n",
       "      <td>52.640000</td>\n",
       "      <td>1686.000000</td>\n",
       "      <td>6.900000</td>\n",
       "      <td>189.500000</td>\n",
       "      <td>998.000000</td>\n",
       "    </tr>\n",
       "    <tr>\n",
       "      <th>75%</th>\n",
       "      <td>33.250000</td>\n",
       "      <td>2629.000000</td>\n",
       "      <td>81.80000</td>\n",
       "      <td>66.630000</td>\n",
       "      <td>1779.000000</td>\n",
       "      <td>7.175000</td>\n",
       "      <td>288.250000</td>\n",
       "      <td>1674.250000</td>\n",
       "    </tr>\n",
       "    <tr>\n",
       "      <th>max</th>\n",
       "      <td>44.000000</td>\n",
       "      <td>3542.000000</td>\n",
       "      <td>83.20000</td>\n",
       "      <td>91.740000</td>\n",
       "      <td>2137.000000</td>\n",
       "      <td>7.800000</td>\n",
       "      <td>585.000000</td>\n",
       "      <td>6417.000000</td>\n",
       "    </tr>\n",
       "  </tbody>\n",
       "</table>\n",
       "</div>"
      ],
      "text/plain": [
       "            Rank  Sunshine hours(City)  Life expectancy(years) (Country)  \\\n",
       "count  44.000000             43.000000                          44.00000   \n",
       "mean   22.500000           2245.860465                          78.17500   \n",
       "std    12.845233            567.403719                           5.30437   \n",
       "min     1.000000           1405.000000                          56.30000   \n",
       "25%    11.750000           1798.500000                          75.40000   \n",
       "50%    22.500000           2066.000000                          80.40000   \n",
       "75%    33.250000           2629.000000                          81.80000   \n",
       "max    44.000000           3542.000000                          83.20000   \n",
       "\n",
       "       Pollution(Index score) (City)  Annual avg. hours worked  \\\n",
       "count                      43.000000                 33.000000   \n",
       "mean                       51.122326               1672.909091   \n",
       "std                        21.856190                179.626933   \n",
       "min                        13.080000               1380.000000   \n",
       "25%                        34.355000               1540.000000   \n",
       "50%                        52.640000               1686.000000   \n",
       "75%                        66.630000               1779.000000   \n",
       "max                        91.740000               2137.000000   \n",
       "\n",
       "       Happiness levels(Country)  Outdoor activities(City)  \\\n",
       "count                  44.000000                 44.000000   \n",
       "mean                    6.435000                213.977273   \n",
       "std                     0.991202                127.190297   \n",
       "min                     3.570000                 23.000000   \n",
       "25%                     5.870000                125.250000   \n",
       "50%                     6.900000                189.500000   \n",
       "75%                     7.175000                288.250000   \n",
       "max                     7.800000                585.000000   \n",
       "\n",
       "       Number of take out places(City)  \n",
       "count                        44.000000  \n",
       "mean                       1443.113636  \n",
       "std                        1388.803270  \n",
       "min                         250.000000  \n",
       "25%                         548.000000  \n",
       "50%                         998.000000  \n",
       "75%                        1674.250000  \n",
       "max                        6417.000000  "
      ]
     },
     "execution_count": 186,
     "metadata": {},
     "output_type": "execute_result"
    }
   ],
   "source": [
    "#Exploring the data\n",
    "df.describe()"
   ]
  },
  {
   "cell_type": "code",
   "execution_count": 187,
   "id": "5f6058e9",
   "metadata": {},
   "outputs": [
    {
     "name": "stderr",
     "output_type": "stream",
     "text": [
      "/var/folders/72/s7wk2_z14fx9fb20vmp59px40000gn/T/ipykernel_1457/3774114639.py:4: UserWarning: To output multiple subplots, the figure containing the passed axes is being cleared\n",
      "  df.hist(ax=ax)\n"
     ]
    },
    {
     "data": {
      "image/png": "[encoded data removed]",
      "text/plain": [
       "<Figure size 576x576 with 9 Axes>"
      ]
     },
     "metadata": {
      "needs_background": "light"
     },
     "output_type": "display_data"
    }
   ],
   "source": [
    "#Visulaizing the data with histograms\n",
    "fig = plt.figure(figsize = (8,8))\n",
    "ax = fig.gca()\n",
    "df.hist(ax=ax)\n",
    "plt.show()"
   ]
  },
  {
   "cell_type": "code",
   "execution_count": 188,
   "id": "2c41023c",
   "metadata": {},
   "outputs": [],
   "source": [
    "#here we remove £ and % from 3 columns and convert them to numerical values\n",
    "df['Cost of a bottle of water(City)']=df['Cost of a bottle of water(City)'].str.replace('£','')\n",
    "df['Cost of a monthly gym membership(City)']=df['Cost of a monthly gym membership(City)'].str.replace('£','')\n",
    "df['Obesity levels(Country)']=df['Obesity levels(Country)'].str.replace('%','')\n",
    "\n",
    "df['Obesity levels(Country)']=df['Obesity levels(Country)'].astype(float)\n",
    "df['Cost of a monthly gym membership(City)']=df['Cost of a monthly gym membership(City)'].astype(float)\n",
    "df['Cost of a bottle of water(City)']=df['Cost of a bottle of water(City)'].astype(float)"
   ]
  },
  {
   "cell_type": "code",
   "execution_count": 189,
   "id": "fba2e25d",
   "metadata": {},
   "outputs": [
    {
     "data": {
      "text/plain": [
       "Happiness levels(Country)                 1.000000\n",
       "Cost of a bottle of water(City)           0.813159\n",
       "Life expectancy(years) (Country)          0.724587\n",
       "Obesity levels(Country)                   0.446399\n",
       "Cost of a monthly gym membership(City)    0.297425\n",
       "Number of take out places(City)           0.033116\n",
       "Outdoor activities(City)                 -0.137612\n",
       "Rank                                     -0.231970\n",
       "Sunshine hours(City)                     -0.334141\n",
       "Annual avg. hours worked                 -0.531554\n",
       "Pollution(Index score) (City)            -0.765902\n",
       "Name: Happiness levels(Country), dtype: float64"
      ]
     },
     "execution_count": 189,
     "metadata": {},
     "output_type": "execute_result"
    }
   ],
   "source": [
    "#correlation of different attributes\n",
    "corrmaterx= df.corr()\n",
    "corrmaterx['Happiness levels(Country)'].sort_values(ascending=False)"
   ]
  },
  {
   "cell_type": "code",
   "execution_count": 190,
   "id": "3ac3573d",
   "metadata": {},
   "outputs": [
    {
     "data": {
      "text/plain": [
       "Life expectancy(years) (Country)          1.000000\n",
       "Happiness levels(Country)                 0.724587\n",
       "Cost of a bottle of water(City)           0.612382\n",
       "Cost of a monthly gym membership(City)    0.417986\n",
       "Number of take out places(City)           0.128163\n",
       "Obesity levels(Country)                   0.091071\n",
       "Outdoor activities(City)                 -0.044864\n",
       "Rank                                     -0.320034\n",
       "Sunshine hours(City)                     -0.356351\n",
       "Annual avg. hours worked                 -0.480859\n",
       "Pollution(Index score) (City)            -0.558713\n",
       "Name: Life expectancy(years) (Country), dtype: float64"
      ]
     },
     "execution_count": 190,
     "metadata": {},
     "output_type": "execute_result"
    }
   ],
   "source": [
    "corrmaterx= df.corr()\n",
    "corrmaterx['Life expectancy(years) (Country)'].sort_values(ascending=False)"
   ]
  },
  {
   "cell_type": "code",
   "execution_count": 191,
   "id": "988915d9",
   "metadata": {},
   "outputs": [
    {
     "data": {
      "text/plain": [
       "Sunshine hours(City)                      1.000000\n",
       "Annual avg. hours worked                  0.560260\n",
       "Pollution(Index score) (City)             0.393847\n",
       "Obesity levels(Country)                   0.281304\n",
       "Outdoor activities(City)                  0.129550\n",
       "Cost of a monthly gym membership(City)    0.030697\n",
       "Rank                                      0.007940\n",
       "Number of take out places(City)          -0.211848\n",
       "Happiness levels(Country)                -0.334141\n",
       "Cost of a bottle of water(City)          -0.348465\n",
       "Life expectancy(years) (Country)         -0.356351\n",
       "Name: Sunshine hours(City), dtype: float64"
      ]
     },
     "execution_count": 191,
     "metadata": {},
     "output_type": "execute_result"
    }
   ],
   "source": [
    "corrmaterx= df.corr()\n",
    "corrmaterx['Sunshine hours(City)'].sort_values(ascending=False)"
   ]
  },
  {
   "cell_type": "code",
   "execution_count": 192,
   "id": "5afebbd8",
   "metadata": {},
   "outputs": [
    {
     "data": {
      "text/plain": [
       "Annual avg. hours worked                  1.000000\n",
       "Sunshine hours(City)                      0.560260\n",
       "Pollution(Index score) (City)             0.544704\n",
       "Rank                                      0.498113\n",
       "Obesity levels(Country)                   0.265088\n",
       "Cost of a monthly gym membership(City)    0.144633\n",
       "Outdoor activities(City)                  0.083404\n",
       "Number of take out places(City)          -0.035817\n",
       "Life expectancy(years) (Country)         -0.480859\n",
       "Happiness levels(Country)                -0.531554\n",
       "Cost of a bottle of water(City)          -0.636100\n",
       "Name: Annual avg. hours worked, dtype: float64"
      ]
     },
     "execution_count": 192,
     "metadata": {},
     "output_type": "execute_result"
    }
   ],
   "source": [
    "corrmaterx= df.corr()\n",
    "corrmaterx['Annual avg. hours worked'].sort_values(ascending=False)"
   ]
  },
  {
   "cell_type": "code",
   "execution_count": 193,
   "id": "f474f6a7",
   "metadata": {},
   "outputs": [
    {
     "data": {
      "text/plain": [
       "Pollution(Index score) (City)             1.000000\n",
       "Annual avg. hours worked                  0.544704\n",
       "Rank                                      0.427297\n",
       "Sunshine hours(City)                      0.393847\n",
       "Outdoor activities(City)                  0.242622\n",
       "Number of take out places(City)           0.187227\n",
       "Cost of a monthly gym membership(City)   -0.244865\n",
       "Obesity levels(Country)                  -0.256251\n",
       "Life expectancy(years) (Country)         -0.558713\n",
       "Cost of a bottle of water(City)          -0.735286\n",
       "Happiness levels(Country)                -0.765902\n",
       "Name: Pollution(Index score) (City), dtype: float64"
      ]
     },
     "execution_count": 193,
     "metadata": {},
     "output_type": "execute_result"
    }
   ],
   "source": [
    "corrmaterx= df.corr()\n",
    "corrmaterx['Pollution(Index score) (City)'].sort_values(ascending=False)"
   ]
  },
  {
   "cell_type": "code",
   "execution_count": 194,
   "id": "c06a31d2",
   "metadata": {},
   "outputs": [
    {
     "data": {
      "text/plain": [
       "Number of take out places(City)           1.000000\n",
       "Outdoor activities(City)                  0.528200\n",
       "Rank                                      0.363058\n",
       "Pollution(Index score) (City)             0.187227\n",
       "Life expectancy(years) (Country)          0.128163\n",
       "Cost of a monthly gym membership(City)    0.092610\n",
       "Happiness levels(Country)                 0.033116\n",
       "Obesity levels(Country)                   0.016833\n",
       "Annual avg. hours worked                 -0.035817\n",
       "Cost of a bottle of water(City)          -0.089963\n",
       "Sunshine hours(City)                     -0.211848\n",
       "Name: Number of take out places(City), dtype: float64"
      ]
     },
     "execution_count": 194,
     "metadata": {},
     "output_type": "execute_result"
    }
   ],
   "source": [
    "corrmaterx= df.corr()\n",
    "corrmaterx['Number of take out places(City)'].sort_values(ascending=False)"
   ]
  },
  {
   "cell_type": "code",
   "execution_count": 195,
   "id": "995504fa",
   "metadata": {},
   "outputs": [
    {
     "data": {
      "text/plain": [
       "Outdoor activities(City)                  1.000000\n",
       "Number of take out places(City)           0.528200\n",
       "Pollution(Index score) (City)             0.242622\n",
       "Obesity levels(Country)                   0.150171\n",
       "Sunshine hours(City)                      0.129550\n",
       "Annual avg. hours worked                  0.083404\n",
       "Life expectancy(years) (Country)         -0.044864\n",
       "Rank                                     -0.076972\n",
       "Cost of a monthly gym membership(City)   -0.115400\n",
       "Happiness levels(Country)                -0.137612\n",
       "Cost of a bottle of water(City)          -0.260297\n",
       "Name: Outdoor activities(City), dtype: float64"
      ]
     },
     "execution_count": 195,
     "metadata": {},
     "output_type": "execute_result"
    }
   ],
   "source": [
    "corrmaterx= df.corr()\n",
    "corrmaterx['Outdoor activities(City)'].sort_values(ascending=False)"
   ]
  },
  {
   "cell_type": "code",
   "execution_count": 196,
   "id": "ed0dbaf8",
   "metadata": {},
   "outputs": [
    {
     "data": {
      "text/plain": [
       "Obesity levels(Country)                   1.000000\n",
       "Happiness levels(Country)                 0.446399\n",
       "Cost of a bottle of water(City)           0.293047\n",
       "Sunshine hours(City)                      0.281304\n",
       "Annual avg. hours worked                  0.265088\n",
       "Rank                                      0.197486\n",
       "Outdoor activities(City)                  0.150171\n",
       "Life expectancy(years) (Country)          0.091071\n",
       "Number of take out places(City)           0.016833\n",
       "Cost of a monthly gym membership(City)   -0.070904\n",
       "Pollution(Index score) (City)            -0.256251\n",
       "Name: Obesity levels(Country), dtype: float64"
      ]
     },
     "execution_count": 196,
     "metadata": {},
     "output_type": "execute_result"
    }
   ],
   "source": [
    "corrmaterx= df.corr()\n",
    "corrmaterx['Obesity levels(Country)'].sort_values(ascending=False)"
   ]
  },
  {
   "cell_type": "code",
   "execution_count": 197,
   "id": "3a565ac5",
   "metadata": {},
   "outputs": [
    {
     "data": {
      "text/plain": [
       "Cost of a monthly gym membership(City)    1.000000\n",
       "Life expectancy(years) (Country)          0.417986\n",
       "Cost of a bottle of water(City)           0.356461\n",
       "Happiness levels(Country)                 0.297425\n",
       "Rank                                      0.272521\n",
       "Annual avg. hours worked                  0.144633\n",
       "Number of take out places(City)           0.092610\n",
       "Sunshine hours(City)                      0.030697\n",
       "Obesity levels(Country)                  -0.070904\n",
       "Outdoor activities(City)                 -0.115400\n",
       "Pollution(Index score) (City)            -0.244865\n",
       "Name: Cost of a monthly gym membership(City), dtype: float64"
      ]
     },
     "execution_count": 197,
     "metadata": {},
     "output_type": "execute_result"
    }
   ],
   "source": [
    "corrmaterx= df.corr()\n",
    "corrmaterx['Cost of a monthly gym membership(City)'].sort_values(ascending=False)"
   ]
  },
  {
   "cell_type": "code",
   "execution_count": 198,
   "id": "ddae8db5",
   "metadata": {},
   "outputs": [
    {
     "data": {
      "text/plain": [
       "Cost of a bottle of water(City)           1.000000\n",
       "Happiness levels(Country)                 0.813159\n",
       "Life expectancy(years) (Country)          0.612382\n",
       "Cost of a monthly gym membership(City)    0.356461\n",
       "Obesity levels(Country)                   0.293047\n",
       "Number of take out places(City)          -0.089963\n",
       "Rank                                     -0.141420\n",
       "Outdoor activities(City)                 -0.260297\n",
       "Sunshine hours(City)                     -0.348465\n",
       "Annual avg. hours worked                 -0.636100\n",
       "Pollution(Index score) (City)            -0.735286\n",
       "Name: Cost of a bottle of water(City), dtype: float64"
      ]
     },
     "execution_count": 198,
     "metadata": {},
     "output_type": "execute_result"
    }
   ],
   "source": [
    "corrmaterx= df.corr()\n",
    "corrmaterx['Cost of a bottle of water(City)'].sort_values(ascending=False)"
   ]
  },
  {
   "cell_type": "code",
   "execution_count": 199,
   "id": "921e8542",
   "metadata": {},
   "outputs": [
    {
     "data": {
      "text/plain": [
       "<AxesSubplot:xlabel='Happiness levels(Country)'>"
      ]
     },
     "execution_count": 199,
     "metadata": {},
     "output_type": "execute_result"
    },
    {
     "data": {
      "image/png": "[encoded data removed]",
      "text/plain": [
       "<Figure size 432x288 with 1 Axes>"
      ]
     },
     "metadata": {
      "needs_background": "light"
     },
     "output_type": "display_data"
    }
   ],
   "source": [
    "#boxplot of different attributes\n",
    "import seaborn as sns\n",
    "sns.boxplot(x=df['Happiness levels(Country)'])"
   ]
  },
  {
   "cell_type": "code",
   "execution_count": 200,
   "id": "04ee5073",
   "metadata": {},
   "outputs": [
    {
     "data": {
      "text/plain": [
       "<AxesSubplot:xlabel='Sunshine hours(City)'>"
      ]
     },
     "execution_count": 200,
     "metadata": {},
     "output_type": "execute_result"
    },
    {
     "data": {
      "image/png": "[encoded data removed]",
      "text/plain": [
       "<Figure size 432x288 with 1 Axes>"
      ]
     },
     "metadata": {
      "needs_background": "light"
     },
     "output_type": "display_data"
    }
   ],
   "source": [
    "sns.boxplot(x=df['Sunshine hours(City)'])"
   ]
  },
  {
   "cell_type": "code",
   "execution_count": 201,
   "id": "2c526577",
   "metadata": {},
   "outputs": [
    {
     "data": {
      "text/plain": [
       "<AxesSubplot:xlabel='Annual avg. hours worked'>"
      ]
     },
     "execution_count": 201,
     "metadata": {},
     "output_type": "execute_result"
    },
    {
     "data": {
      "image/png": "[encoded data removed]",
      "text/plain": [
       "<Figure size 432x288 with 1 Axes>"
      ]
     },
     "metadata": {
      "needs_background": "light"
     },
     "output_type": "display_data"
    }
   ],
   "source": [
    "sns.boxplot(x=df['Annual avg. hours worked'])"
   ]
  },
  {
   "cell_type": "code",
   "execution_count": 202,
   "id": "c24f7101",
   "metadata": {},
   "outputs": [
    {
     "data": {
      "text/plain": [
       "<AxesSubplot:xlabel='Pollution(Index score) (City)'>"
      ]
     },
     "execution_count": 202,
     "metadata": {},
     "output_type": "execute_result"
    },
    {
     "data": {
      "image/png": "[encoded data removed]",
      "text/plain": [
       "<Figure size 432x288 with 1 Axes>"
      ]
     },
     "metadata": {
      "needs_background": "light"
     },
     "output_type": "display_data"
    }
   ],
   "source": [
    "sns.boxplot(x=df['Pollution(Index score) (City)'])"
   ]
  },
  {
   "cell_type": "code",
   "execution_count": 203,
   "id": "22d02a37",
   "metadata": {},
   "outputs": [
    {
     "data": {
      "text/plain": [
       "<AxesSubplot:xlabel='Outdoor activities(City)'>"
      ]
     },
     "execution_count": 203,
     "metadata": {},
     "output_type": "execute_result"
    },
    {
     "data": {
      "image/png": "[encoded data removed]",
      "text/plain": [
       "<Figure size 432x288 with 1 Axes>"
      ]
     },
     "metadata": {
      "needs_background": "light"
     },
     "output_type": "display_data"
    }
   ],
   "source": [
    "sns.boxplot(x=df['Outdoor activities(City)'])"
   ]
  },
  {
   "cell_type": "code",
   "execution_count": 204,
   "id": "be8c1c0f",
   "metadata": {},
   "outputs": [
    {
     "data": {
      "text/plain": [
       "<AxesSubplot:xlabel='Number of take out places(City)'>"
      ]
     },
     "execution_count": 204,
     "metadata": {},
     "output_type": "execute_result"
    },
    {
     "data": {
      "image/png": "[encoded data removed]",
      "text/plain": [
       "<Figure size 432x288 with 1 Axes>"
      ]
     },
     "metadata": {
      "needs_background": "light"
     },
     "output_type": "display_data"
    }
   ],
   "source": [
    "sns.boxplot(x=df['Number of take out places(City)']) "
   ]
  },
  {
   "cell_type": "code",
   "execution_count": 205,
   "id": "18ced3bb",
   "metadata": {},
   "outputs": [
    {
     "data": {
      "text/plain": [
       "<AxesSubplot:xlabel='Life expectancy(years) (Country)'>"
      ]
     },
     "execution_count": 205,
     "metadata": {},
     "output_type": "execute_result"
    },
    {
     "data": {
      "image/png": "[encoded data removed]",
      "text/plain": [
       "<Figure size 432x288 with 1 Axes>"
      ]
     },
     "metadata": {
      "needs_background": "light"
     },
     "output_type": "display_data"
    }
   ],
   "source": [
    "sns.boxplot(x=df['Life expectancy(years) (Country)']) "
   ]
  },
  {
   "cell_type": "code",
   "execution_count": 206,
   "id": "db2d1cdc",
   "metadata": {},
   "outputs": [
    {
     "data": {
      "text/plain": [
       "<AxesSubplot:xlabel='Obesity levels(Country)'>"
      ]
     },
     "execution_count": 206,
     "metadata": {},
     "output_type": "execute_result"
    },
    {
     "data": {
      "image/png": "[encoded data removed]",
      "text/plain": [
       "<Figure size 432x288 with 1 Axes>"
      ]
     },
     "metadata": {
      "needs_background": "light"
     },
     "output_type": "display_data"
    }
   ],
   "source": [
    "sns.boxplot(x=df['Obesity levels(Country)']) "
   ]
  },
  {
   "cell_type": "code",
   "execution_count": 207,
   "id": "03084f9c",
   "metadata": {},
   "outputs": [
    {
     "data": {
      "text/plain": [
       "<AxesSubplot:xlabel='Cost of a monthly gym membership(City)'>"
      ]
     },
     "execution_count": 207,
     "metadata": {},
     "output_type": "execute_result"
    },
    {
     "data": {
      "image/png": "[encoded data removed]",
      "text/plain": [
       "<Figure size 432x288 with 1 Axes>"
      ]
     },
     "metadata": {
      "needs_background": "light"
     },
     "output_type": "display_data"
    }
   ],
   "source": [
    "sns.boxplot(x=df['Cost of a monthly gym membership(City)']) "
   ]
  },
  {
   "cell_type": "code",
   "execution_count": 208,
   "id": "ac6e19e9",
   "metadata": {},
   "outputs": [
    {
     "data": {
      "text/plain": [
       "<AxesSubplot:xlabel='Cost of a bottle of water(City)'>"
      ]
     },
     "execution_count": 208,
     "metadata": {},
     "output_type": "execute_result"
    },
    {
     "data": {
      "image/png": "[encoded data removed]",
      "text/plain": [
       "<Figure size 432x288 with 1 Axes>"
      ]
     },
     "metadata": {
      "needs_background": "light"
     },
     "output_type": "display_data"
    }
   ],
   "source": [
    "sns.boxplot(x=df['Cost of a bottle of water(City)'])"
   ]
  },
  {
   "cell_type": "code",
   "execution_count": 209,
   "id": "4d822845",
   "metadata": {},
   "outputs": [
    {
     "data": {
      "text/plain": [
       "City                                       0\n",
       "Rank                                       0\n",
       "Sunshine hours(City)                       1\n",
       "Cost of a bottle of water(City)            0\n",
       "Obesity levels(Country)                    0\n",
       "Life expectancy(years) (Country)           0\n",
       "Pollution(Index score) (City)              1\n",
       "Annual avg. hours worked                  11\n",
       "Happiness levels(Country)                  0\n",
       "Outdoor activities(City)                   0\n",
       "Number of take out places(City)            0\n",
       "Cost of a monthly gym membership(City)     0\n",
       "dtype: int64"
      ]
     },
     "execution_count": 209,
     "metadata": {},
     "output_type": "execute_result"
    }
   ],
   "source": [
    "#We can see that we have missing values in 3 attributes\n",
    "df.isnull().sum()"
   ]
  },
  {
   "cell_type": "code",
   "execution_count": 210,
   "id": "e249d8a0",
   "metadata": {},
   "outputs": [],
   "source": [
    "#We fill the missing values with their mean for each column\n",
    "mean1=df['Sunshine hours(City)'].mean()\n",
    "mean2=df['Pollution(Index score) (City)'].mean()\n",
    "mean3=df['Annual avg. hours worked'].mean()\n",
    "df['Sunshine hours(City)'].fillna(mean1, inplace=True)\n",
    "df['Pollution(Index score) (City)'].fillna(mean2, inplace=True)\n",
    "df['Annual avg. hours worked'].fillna(mean3, inplace=True)"
   ]
  },
  {
   "cell_type": "code",
   "execution_count": 211,
   "id": "2a0e2195",
   "metadata": {},
   "outputs": [
    {
     "data": {
      "text/plain": [
       "City                                      0\n",
       "Rank                                      0\n",
       "Sunshine hours(City)                      0\n",
       "Cost of a bottle of water(City)           0\n",
       "Obesity levels(Country)                   0\n",
       "Life expectancy(years) (Country)          0\n",
       "Pollution(Index score) (City)             0\n",
       "Annual avg. hours worked                  0\n",
       "Happiness levels(Country)                 0\n",
       "Outdoor activities(City)                  0\n",
       "Number of take out places(City)           0\n",
       "Cost of a monthly gym membership(City)    0\n",
       "dtype: int64"
      ]
     },
     "execution_count": 211,
     "metadata": {},
     "output_type": "execute_result"
    }
   ],
   "source": [
    "#We can see that we don't have any missing values anymore\n",
    "df.isnull().sum()"
   ]
  },
  {
   "cell_type": "code",
   "execution_count": 212,
   "id": "18933ce1",
   "metadata": {},
   "outputs": [],
   "source": [
    "#Function to calculate q1, q1, iqr, lower and uppear bound in order to remove outliers later\n",
    "def outliers(df, ft):\n",
    "    Q1 = df[ft].quantile(0.25)\n",
    "    Q3 = df[ft].quantile(0.75)\n",
    "    IQR = Q3 - Q1\n",
    "    \n",
    "    lower_bound = Q1 - 1.5 * IQR\n",
    "    upper_bound = Q3 + 1.5 * IQR\n",
    "    \n",
    "    ls = df.index[ (df[ft] <  lower_bound) | (df[ft] >  upper_bound) ]\n",
    "    \n",
    "    return ls"
   ]
  },
  {
   "cell_type": "code",
   "execution_count": 213,
   "id": "9f1bc8bb",
   "metadata": {},
   "outputs": [],
   "source": [
    "#We put outliers in a list\n",
    "index_list = []\n",
    "for feature in ['Life expectancy(years) (Country)' , 'Number of take out places(City)' , 'Outdoor activities(City)' , 'Pollution(Index score) (City)','Annual avg. hours worked','Sunshine hours(City)','Happiness levels(Country)']:\n",
    "    index_list.extend(outliers(df , feature))"
   ]
  },
  {
   "cell_type": "code",
   "execution_count": 214,
   "id": "7be47d61",
   "metadata": {},
   "outputs": [
    {
     "data": {
      "text/plain": [
       "[38, 28, 34, 37, 8, 43, 25]"
      ]
     },
     "execution_count": 214,
     "metadata": {},
     "output_type": "execute_result"
    }
   ],
   "source": [
    "index_list"
   ]
  },
  {
   "cell_type": "code",
   "execution_count": 215,
   "id": "d9ee0e5e",
   "metadata": {},
   "outputs": [],
   "source": [
    "#Function to remove outliers\n",
    "def remove(df , ls):\n",
    "    ls = sorted(set(ls))\n",
    "    df = df.drop(ls)\n",
    "    return df"
   ]
  },
  {
   "cell_type": "code",
   "execution_count": 216,
   "id": "3a636e15",
   "metadata": {},
   "outputs": [],
   "source": [
    "#Remove outliers\n",
    "df = remove(df , index_list)"
   ]
  },
  {
   "cell_type": "code",
   "execution_count": 217,
   "id": "cff0502f",
   "metadata": {},
   "outputs": [
    {
     "data": {
      "text/plain": [
       "(37, 12)"
      ]
     },
     "execution_count": 217,
     "metadata": {},
     "output_type": "execute_result"
    }
   ],
   "source": [
    "df.shape"
   ]
  },
  {
   "cell_type": "code",
   "execution_count": 218,
   "id": "407fb817",
   "metadata": {},
   "outputs": [
    {
     "data": {
      "text/plain": [
       "<AxesSubplot:xlabel='Happiness levels(Country)'>"
      ]
     },
     "execution_count": 218,
     "metadata": {},
     "output_type": "execute_result"
    },
    {
     "data": {
      "image/png": "[encoded data removed]",
      "text/plain": [
       "<Figure size 432x288 with 1 Axes>"
      ]
     },
     "metadata": {
      "needs_background": "light"
     },
     "output_type": "display_data"
    }
   ],
   "source": [
    "#Boxplot after removing outliers \n",
    "sns.boxplot(x=df['Happiness levels(Country)'])"
   ]
  },
  {
   "cell_type": "code",
   "execution_count": 219,
   "id": "d56d1639",
   "metadata": {},
   "outputs": [
    {
     "data": {
      "text/plain": [
       "<AxesSubplot:xlabel='Outdoor activities(City)'>"
      ]
     },
     "execution_count": 219,
     "metadata": {},
     "output_type": "execute_result"
    },
    {
     "data": {
      "image/png": "[encoded data removed]",
      "text/plain": [
       "<Figure size 432x288 with 1 Axes>"
      ]
     },
     "metadata": {
      "needs_background": "light"
     },
     "output_type": "display_data"
    }
   ],
   "source": [
    "sns.boxplot(x=df['Outdoor activities(City)'])"
   ]
  },
  {
   "cell_type": "code",
   "execution_count": 220,
   "id": "a98e89d1",
   "metadata": {},
   "outputs": [
    {
     "data": {
      "text/plain": [
       "<AxesSubplot:xlabel='Number of take out places(City)'>"
      ]
     },
     "execution_count": 220,
     "metadata": {},
     "output_type": "execute_result"
    },
    {
     "data": {
      "image/png": "[encoded data removed]",
      "text/plain": [
       "<Figure size 432x288 with 1 Axes>"
      ]
     },
     "metadata": {
      "needs_background": "light"
     },
     "output_type": "display_data"
    }
   ],
   "source": [
    "sns.boxplot(x=df['Number of take out places(City)'])"
   ]
  },
  {
   "cell_type": "code",
   "execution_count": 221,
   "id": "7d485eb0",
   "metadata": {},
   "outputs": [
    {
     "data": {
      "text/plain": [
       "<AxesSubplot:xlabel='Life expectancy(years) (Country)'>"
      ]
     },
     "execution_count": 221,
     "metadata": {},
     "output_type": "execute_result"
    },
    {
     "data": {
      "image/png": "[encoded data removed]",
      "text/plain": [
       "<Figure size 432x288 with 1 Axes>"
      ]
     },
     "metadata": {
      "needs_background": "light"
     },
     "output_type": "display_data"
    }
   ],
   "source": [
    "sns.boxplot(x=df['Life expectancy(years) (Country)'])"
   ]
  },
  {
   "cell_type": "code",
   "execution_count": 222,
   "id": "dc157c93",
   "metadata": {},
   "outputs": [
    {
     "data": {
      "text/plain": [
       "<AxesSubplot:xlabel='Annual avg. hours worked'>"
      ]
     },
     "execution_count": 222,
     "metadata": {},
     "output_type": "execute_result"
    },
    {
     "data": {
      "image/png": "[encoded data removed]",
      "text/plain": [
       "<Figure size 432x288 with 1 Axes>"
      ]
     },
     "metadata": {
      "needs_background": "light"
     },
     "output_type": "display_data"
    }
   ],
   "source": [
    "sns.boxplot(x=df['Annual avg. hours worked'])"
   ]
  },
  {
   "cell_type": "code",
   "execution_count": 223,
   "id": "f32881c4",
   "metadata": {},
   "outputs": [
    {
     "data": {
      "text/plain": [
       "<AxesSubplot:xlabel='Cost of a monthly gym membership(City)'>"
      ]
     },
     "execution_count": 223,
     "metadata": {},
     "output_type": "execute_result"
    },
    {
     "data": {
      "image/png": "[encoded data removed]",
      "text/plain": [
       "<Figure size 432x288 with 1 Axes>"
      ]
     },
     "metadata": {
      "needs_background": "light"
     },
     "output_type": "display_data"
    }
   ],
   "source": [
    "sns.boxplot(x=df['Cost of a monthly gym membership(City)'])"
   ]
  },
  {
   "cell_type": "code",
   "execution_count": 224,
   "id": "39ed273d",
   "metadata": {},
   "outputs": [
    {
     "data": {
      "text/plain": [
       "<AxesSubplot:xlabel='Obesity levels(Country)'>"
      ]
     },
     "execution_count": 224,
     "metadata": {},
     "output_type": "execute_result"
    },
    {
     "data": {
      "image/png": "[encoded data removed]",
      "text/plain": [
       "<Figure size 432x288 with 1 Axes>"
      ]
     },
     "metadata": {
      "needs_background": "light"
     },
     "output_type": "display_data"
    }
   ],
   "source": [
    "sns.boxplot(x=df['Obesity levels(Country)'])"
   ]
  },
  {
   "cell_type": "code",
   "execution_count": 225,
   "id": "3706e5aa",
   "metadata": {},
   "outputs": [
    {
     "data": {
      "text/plain": [
       "<AxesSubplot:xlabel='Cost of a bottle of water(City)'>"
      ]
     },
     "execution_count": 225,
     "metadata": {},
     "output_type": "execute_result"
    },
    {
     "data": {
      "image/png": "[encoded data removed]",
      "text/plain": [
       "<Figure size 432x288 with 1 Axes>"
      ]
     },
     "metadata": {
      "needs_background": "light"
     },
     "output_type": "display_data"
    }
   ],
   "source": [
    "sns.boxplot(x=df['Cost of a bottle of water(City)'])"
   ]
  },
  {
   "cell_type": "code",
   "execution_count": 226,
   "id": "49a3a842",
   "metadata": {},
   "outputs": [],
   "source": [
    "#x and y\n",
    "x = df[['Life expectancy(years) (Country)','Number of take out places(City)' , 'Outdoor activities(City)' , 'Pollution(Index score) (City)','Annual avg. hours worked','Sunshine hours(City)','Cost of a bottle of water(City)','Obesity levels(Country)','Cost of a monthly gym membership(City)']]\n",
    "y = df['Happiness levels(Country)']"
   ]
  },
  {
   "cell_type": "code",
   "execution_count": 227,
   "id": "b35456da",
   "metadata": {},
   "outputs": [
    {
     "data": {
      "text/plain": [
       "6.546216216216217"
      ]
     },
     "execution_count": 227,
     "metadata": {},
     "output_type": "execute_result"
    }
   ],
   "source": [
    "#We see the mean here is 6.546 so we will divide values of y to low and high based on the mean\n",
    "y.mean()\n"
   ]
  },
  {
   "cell_type": "code",
   "execution_count": 228,
   "id": "d0785b46",
   "metadata": {},
   "outputs": [
    {
     "data": {
      "text/plain": [
       "0     1\n",
       "1     1\n",
       "2     1\n",
       "3     1\n",
       "4     1\n",
       "5     1\n",
       "6     0\n",
       "7     1\n",
       "9     1\n",
       "10    1\n",
       "11    0\n",
       "12    0\n",
       "13    0\n",
       "14    1\n",
       "15    0\n",
       "16    0\n",
       "17    0\n",
       "18    1\n",
       "19    1\n",
       "20    1\n",
       "21    0\n",
       "22    0\n",
       "23    0\n",
       "24    1\n",
       "26    1\n",
       "27    1\n",
       "29    1\n",
       "30    0\n",
       "31    0\n",
       "32    1\n",
       "33    1\n",
       "35    0\n",
       "36    1\n",
       "39    0\n",
       "40    1\n",
       "41    1\n",
       "42    0\n",
       "Name: Happiness levels(Country), dtype: int64"
      ]
     },
     "execution_count": 228,
     "metadata": {},
     "output_type": "execute_result"
    }
   ],
   "source": [
    "# 0 ia low happiness level and 1 is hight happiness level\n",
    "df['Happiness levels(Country)'] = np.where(df['Happiness levels(Country)'] < 6.5 , 0, 1)\n",
    "df['Happiness levels(Country)']"
   ]
  },
  {
   "cell_type": "code",
   "execution_count": 229,
   "id": "3b05d627",
   "metadata": {},
   "outputs": [],
   "source": [
    "y = df['Happiness levels(Country)']"
   ]
  },
  {
   "cell_type": "code",
   "execution_count": 230,
   "id": "5605abef",
   "metadata": {},
   "outputs": [
    {
     "data": {
      "text/plain": [
       "array([[0.86394558, 0.25700483, 1.        , 0.22692601, 0.09199319,\n",
       "        0.21197941, 0.58032787, 0.50470219, 0.33011921],\n",
       "       [0.92517007, 0.2747182 , 0.95989975, 0.17518434, 0.56558773,\n",
       "        0.57604118, 0.43606557, 0.77429467, 0.44863254],\n",
       "       [0.85034014, 0.24412238, 0.27318296, 0.05403   , 0.20613288,\n",
       "        0.224146  , 0.58688525, 0.49529781, 0.16953015],\n",
       "       [0.9047619 , 0.11207729, 0.26566416, 0.08326977, 0.12265758,\n",
       "        0.19466542, 0.5147541 , 0.51097179, 0.37237027],\n",
       "       [0.76870748, 0.08792271, 0.3283208 , 0.1037376 , 0.        ,\n",
       "        0.10528779, 0.66885246, 0.48275862, 0.28856942],\n",
       "       [0.80952381, 0.01900161, 0.22556391, 0.        , 0.2725724 ,\n",
       "        0.12026205, 0.47540984, 0.56112853, 0.33590463],\n",
       "       [1.        , 0.09307568, 0.03007519, 0.48362987, 0.44974446,\n",
       "        0.63827796, 0.20655738, 0.        , 0.69775596],\n",
       "       [0.82312925, 0.4763285 , 0.57894737, 0.33473176, 0.01022147,\n",
       "        0.103416  , 0.45901639, 0.56426332, 0.17601683],\n",
       "       [0.89795918, 0.17326892, 0.4887218 , 0.14213069, 0.49403748,\n",
       "        0.24941507, 0.30491803, 0.78683386, 0.26244741],\n",
       "       [0.92517007, 0.18132045, 0.55137845, 0.16297991, 0.56558773,\n",
       "        0.448292  , 0.46557377, 0.77429467, 0.36500701],\n",
       "       [0.46938776, 0.00354267, 0.50125313, 0.91978134, 0.49899334,\n",
       "        0.59241928, 0.03606557, 0.05956113, 0.39533661],\n",
       "       [0.38095238, 0.4979066 , 0.88721805, 0.80803458, 0.49899334,\n",
       "        0.57042583, 0.02295082, 0.17868339, 0.59537167],\n",
       "       [0.50340136, 0.38164251, 0.55889724, 0.50292398, 0.49899334,\n",
       "        0.5240992 , 0.13770492, 0.7523511 , 0.11185133],\n",
       "       [0.89795918, 0.45281804, 0.37844612, 0.31464531, 0.49403748,\n",
       "        0.30931212, 0.30819672, 0.78683386, 0.2904979 ],\n",
       "       [0.93197279, 0.72173913, 0.48370927, 0.50343249, 0.52129472,\n",
       "        0.63827796, 0.37704918, 0.61128527, 0.32380785],\n",
       "       [0.        , 0.18776167, 0.22807018, 0.90655988, 0.49899334,\n",
       "        0.73841834, 0.01967213, 0.0815047 , 0.24316269],\n",
       "       [0.8707483 , 0.04476651, 0.30325815, 0.56877702, 1.        ,\n",
       "        0.30931212, 0.1442623 , 0.01253918, 0.47265077],\n",
       "       [0.82312925, 0.09694042, 0.        , 0.31400966, 0.01022147,\n",
       "        0.12026205, 0.59016393, 0.56426332, 0.40217391],\n",
       "       [0.95918367, 0.06247987, 0.05263158, 0.18014238, 0.30153322,\n",
       "        0.39347705, 0.80983607, 0.47648903, 0.94547686],\n",
       "       [0.91156463, 0.0547504 , 0.29072682, 0.43478261, 0.88245315,\n",
       "        0.89190454, 0.4852459 , 0.68338558, 0.74053296],\n",
       "       [0.42176871, 0.22028986, 0.9924812 , 0.71713705, 0.77001704,\n",
       "        0.38043987, 0.        , 0.87147335, 0.0157784 ],\n",
       "       [0.14965986, 0.        , 0.7518797 , 1.        , 0.49899334,\n",
       "        1.        , 0.00327869, 0.86833856, 0.12587658],\n",
       "       [0.46938776, 0.15040258, 0.27819549, 0.46071701, 0.49899334,\n",
       "        0.        , 0.13770492, 0.05956113, 0.3276648 ],\n",
       "       [0.70068027, 0.38293076, 0.50125313, 0.67365878, 0.67972743,\n",
       "        0.86523163, 0.44918033, 1.        , 0.2792777 ],\n",
       "       [0.70068027, 0.10885668, 0.16290727, 0.17734554, 0.67972743,\n",
       "        0.57510529, 0.40655738, 1.        , 0.52945302],\n",
       "       [0.81632653, 0.13172303, 0.34085213, 0.3431223 , 0.66780239,\n",
       "        0.02246139, 0.40983607, 0.65830721, 0.37307153],\n",
       "       [0.70068027, 0.34460548, 0.37092732, 0.38456649, 0.67972743,\n",
       "        0.51614413, 0.3442623 , 1.        , 0.43951613],\n",
       "       [0.46938776, 0.32431562, 0.63659148, 0.69132977, 0.49899334,\n",
       "        0.2016846 , 0.19672131, 0.05956113, 0.7342216 ],\n",
       "       [0.46938776, 0.03091787, 0.21303258, 0.81769641, 0.49899334,\n",
       "        0.17360786, 0.04590164, 0.05956113, 0.50157784],\n",
       "       [0.80952381, 0.23768116, 0.0802005 , 0.63043478, 0.34582624,\n",
       "        0.06598035, 0.64262295, 0.55799373, 0.16251753],\n",
       "       [0.70068027, 0.25152979, 0.54887218, 0.43579964, 0.67972743,\n",
       "        0.77538606, 0.47540984, 1.        , 0.86009818],\n",
       "       [0.36734694, 1.        , 0.33834586, 0.84795322, 0.49899334,\n",
       "        0.27983154, 0.09508197, 0.55799373, 0.        ],\n",
       "       [0.95918367, 0.09275362, 0.11528822, 0.05377574, 0.30153322,\n",
       "        0.07533926, 1.        , 0.47648903, 1.        ],\n",
       "       [0.96598639, 0.69114332, 0.21804511, 0.68789728, 0.5758092 ,\n",
       "        0.23865232, 0.32786885, 0.48902821, 0.65603086],\n",
       "       [0.70068027, 0.15909823, 0.15037594, 0.33180778, 0.67972743,\n",
       "        0.52550304, 0.42622951, 1.        , 0.87517532],\n",
       "       [0.70068027, 0.91175523, 0.84210526, 0.56292906, 0.67972743,\n",
       "        0.52877866, 0.38360656, 1.        , 0.85185835],\n",
       "       [0.06802721, 0.95201288, 0.74937343, 0.56636156, 0.99659284,\n",
       "        0.23210108, 0.0852459 , 0.58934169, 0.26875877]])"
      ]
     },
     "execution_count": 230,
     "metadata": {},
     "output_type": "execute_result"
    }
   ],
   "source": [
    "#MixMax Scaler\n",
    "from sklearn.preprocessing import MinMaxScaler\n",
    "scaler=MinMaxScaler()\n",
    "scaler.fit(x)\n",
    "featureSc=scaler.transform(x)\n",
    "featureSc"
   ]
  },
  {
   "cell_type": "code",
   "execution_count": 231,
   "id": "782f8ddb",
   "metadata": {},
   "outputs": [
    {
     "data": {
      "text/plain": [
       "array([[ 6.52998880e-01, -9.21090088e-02,  2.09211494e+00,\n",
       "        -8.10581272e-01, -1.62975132e+00, -6.78962027e-01,\n",
       "         9.57325810e-01, -1.92677371e-01, -3.92920427e-01],\n",
       "       [ 8.88587859e-01, -2.53324385e-02,  1.94654230e+00,\n",
       "        -9.99688594e-01,  2.98391251e-01,  7.12522742e-01,\n",
       "         3.49949965e-01,  6.67209576e-01,  6.60831561e-02],\n",
       "       [ 6.00645774e-01, -1.40673787e-01, -5.46389210e-01,\n",
       "        -1.44248780e+00, -1.16505509e+00, -6.32459965e-01,\n",
       "         9.84933803e-01, -2.22673427e-01, -1.01488386e+00],\n",
       "       [ 8.10058199e-01, -6.38462766e-01, -5.73684081e-01,\n",
       "        -1.33562126e+00, -1.50490756e+00, -7.45138038e-01,\n",
       "         6.81245880e-01, -1.72680000e-01, -2.29281575e-01],\n",
       "       [ 2.86527136e-01, -7.29521726e-01, -3.46226826e-01,\n",
       "        -1.26081467e+00, -2.00428262e+00, -1.08674934e+00,\n",
       "         1.33003371e+00, -2.62668169e-01, -5.53843280e-01],\n",
       "       [ 4.43586455e-01, -9.89343290e-01, -7.19256723e-01,\n",
       "        -1.63995859e+00, -8.94560271e-01, -1.02951603e+00,\n",
       "         5.15597923e-01, -1.27010328e-02, -3.70513447e-01],\n",
       "       [ 1.17652994e+00, -7.10095814e-01, -1.42892336e+00,\n",
       "         1.27629197e-01, -1.73240746e-01,  9.50398673e-01,\n",
       "        -6.16329789e-01, -1.80246572e+00,  1.03094128e+00],\n",
       "       [ 4.95939561e-01,  7.34706344e-01,  5.63602191e-01,\n",
       "        -4.16568966e-01, -1.96266803e+00, -1.09390350e+00,\n",
       "         4.46577940e-01, -2.70234741e-03, -9.89760884e-01],\n",
       "       [ 7.83881646e-01, -4.07780069e-01,  2.36063745e-01,\n",
       "        -1.12049425e+00,  7.08913538e-03, -5.35878760e-01,\n",
       "        -2.02209894e-01,  7.07204318e-01, -6.55014188e-01],\n",
       "       [ 8.88587859e-01, -3.77427082e-01,  4.63520999e-01,\n",
       "        -1.04429376e+00,  2.98391251e-01,  2.24251094e-01,\n",
       "         4.74185933e-01,  6.67209576e-01, -2.57799549e-01],\n",
       "       [-8.65241203e-01, -1.04762102e+00,  2.81555196e-01,\n",
       "         1.72169122e+00,  2.72659053e-02,  7.75121671e-01,\n",
       "        -1.33413761e+00, -1.61249070e+00, -1.40332656e-01],\n",
       "       [-1.20553639e+00,  8.16052348e-01,  1.68269188e+00,\n",
       "         1.31327516e+00,  2.72659053e-02,  6.91060252e-01,\n",
       "        -1.38935359e+00, -1.23254066e+00,  6.34405640e-01],\n",
       "       [-7.34358437e-01,  3.77755223e-01,  4.90815870e-01,\n",
       "         1.98145989e-01,  2.72659053e-02,  5.13994710e-01,\n",
       "        -9.06213715e-01,  5.97218778e-01, -1.23827466e+00],\n",
       "       [ 7.83881646e-01,  6.46075623e-01, -1.64261023e-01,\n",
       "        -4.89981636e-01,  7.08913538e-03, -3.06945533e-01,\n",
       "        -1.88405898e-01,  7.07204318e-01, -5.46374287e-01],\n",
       "       [ 9.14764412e-01,  1.65986537e+00,  2.17867165e-01,\n",
       "         2.00004538e-01,  1.18061370e-01,  9.50398673e-01,\n",
       "         1.01478028e-01,  1.47277934e-01, -4.17364404e-01],\n",
       "       [-2.67142337e+00, -3.53144693e-01, -7.10158433e-01,\n",
       "         1.67336895e+00,  2.72659053e-02,  1.33314641e+00,\n",
       "        -1.40315759e+00, -1.54249990e+00, -7.29704120e-01],\n",
       "       [ 6.79175433e-01, -8.92213734e-01, -4.37209728e-01,\n",
       "         4.38828035e-01,  2.06701124e+00, -3.06945533e-01,\n",
       "        -8.78605722e-01, -1.76247098e+00,  1.59106072e-01],\n",
       "       [ 4.95939561e-01, -6.95526381e-01, -1.53810284e+00,\n",
       "        -4.92304822e-01, -1.96266803e+00, -1.02951603e+00,\n",
       "         9.98737799e-01, -2.70234741e-03, -1.13851680e-01],\n",
       "       [ 1.01947062e+00, -8.25437163e-01, -1.34703875e+00,\n",
       "        -9.81567745e-01, -7.76652271e-01,  1.47422530e-02,\n",
       "         1.92360556e+00, -2.82665539e-01,  1.99036741e+00],\n",
       "       [ 8.36234752e-01, -8.54576030e-01, -4.82701179e-01,\n",
       "        -5.08995254e-02,  1.58844348e+00,  1.91978781e+00,\n",
       "         5.57009912e-01,  3.77247699e-01,  1.19661713e+00],\n",
       "       [-1.04847708e+00, -2.30518627e-01,  2.06482007e+00,\n",
       "         9.81059593e-01,  1.13068301e+00, -3.50873265e-02,\n",
       "        -1.48598157e+00,  9.77168825e-01, -1.61036632e+00],\n",
       "       [-2.09553920e+00, -1.06097634e+00,  1.19138421e+00,\n",
       "         2.01487726e+00,  2.72659053e-02,  2.33294074e+00,\n",
       "        -1.47217757e+00,  9.67170139e-01, -1.18395471e+00],\n",
       "       [-8.65241203e-01, -4.93982550e-01, -5.28192630e-01,\n",
       "         4.38864540e-02,  2.72659053e-02, -1.48917102e+00,\n",
       "        -9.06213715e-01, -1.61249070e+00, -4.02426418e-01],\n",
       "       [ 2.47616043e-02,  3.82611700e-01,  2.81555196e-01,\n",
       "         8.22153687e-01,  7.63087484e-01,  1.81784098e+00,\n",
       "         4.05165951e-01,  1.38711493e+00, -5.89830248e-01],\n",
       "       [ 2.47616043e-02, -6.50603961e-01, -9.46713978e-01,\n",
       "        -9.91789762e-01,  7.63087484e-01,  7.08945660e-01,\n",
       "         2.25713996e-01,  1.38711493e+00,  3.79101872e-01],\n",
       "       [ 4.69763008e-01, -5.64401479e-01, -3.00735375e-01,\n",
       "        -3.85902913e-01,  7.14537131e-01, -1.40332106e+00,\n",
       "         2.39517993e-01,  2.97258216e-01, -2.26565578e-01],\n",
       "       [ 2.47616043e-02,  2.38131485e-01, -1.91555893e-01,\n",
       "        -2.34431201e-01,  7.63087484e-01,  4.83589515e-01,\n",
       "        -3.65619366e-02,  1.38711493e+00,  3.07751882e-02],\n",
       "       [-8.65241203e-01,  1.61641959e-01,  7.72862865e-01,\n",
       "         8.86738251e-01,  2.72659053e-02, -7.18309925e-01,\n",
       "        -6.57741778e-01, -1.61249070e+00,  1.17217315e+00],\n",
       "       [-8.65241203e-01, -9.44420870e-01, -7.64748174e-01,\n",
       "         1.34858758e+00,  2.72659053e-02, -8.25622375e-01,\n",
       "        -1.29272562e+00, -1.61249070e+00,  2.71140970e-01],\n",
       "       [ 4.43586455e-01, -1.64956176e-01, -1.24695755e+00,\n",
       "         6.64177054e-01, -5.96322390e-01, -1.23698677e+00,\n",
       "         1.21960174e+00, -2.26997183e-02, -1.04204384e+00],\n",
       "       [ 2.47616043e-02, -1.12749040e-01,  4.54422709e-01,\n",
       "        -4.71824282e-02,  7.63087484e-01,  1.47444114e+00,\n",
       "         5.15597923e-01,  1.38711493e+00,  1.65969471e+00],\n",
       "       [-1.25788950e+00,  2.70886459e+00, -3.09833665e-01,\n",
       "         1.45917122e+00,  2.72659053e-02, -4.19623606e-01,\n",
       "        -1.08566567e+00, -2.26997183e-02, -1.67147626e+00],\n",
       "       [ 1.01947062e+00, -7.11309934e-01, -1.11958149e+00,\n",
       "        -1.44341708e+00, -7.76652271e-01, -1.20121595e+00,\n",
       "         2.72423736e+00, -2.82665539e-01,  2.20153621e+00],\n",
       "       [ 1.04564718e+00,  1.54452402e+00, -7.46551594e-01,\n",
       "         8.74193048e-01,  3.40005839e-01, -5.77015199e-01,\n",
       "        -1.05581919e-01, -2.42670798e-01,  8.69339426e-01],\n",
       "       [ 2.47616043e-02, -4.61201325e-01, -9.92205429e-01,\n",
       "        -4.27255620e-01,  7.63087484e-01,  5.19360332e-01,\n",
       "         3.08537975e-01,  1.38711493e+00,  1.71808865e+00],\n",
       "       [ 2.47616043e-02,  2.37619586e+00,  1.51892266e+00,\n",
       "         4.17454726e-01,  7.63087484e-01,  5.31880118e-01,\n",
       "         1.29086021e-01,  1.38711493e+00,  1.62778174e+00],\n",
       "       [-2.40965784e+00,  2.52796079e+00,  1.18228592e+00,\n",
       "         4.29999929e-01,  2.05313971e+00, -6.02054771e-01,\n",
       "        -1.12707766e+00,  7.72871360e-02, -6.30570211e-01]])"
      ]
     },
     "execution_count": 231,
     "metadata": {},
     "output_type": "execute_result"
    }
   ],
   "source": [
    "#Standard scaler\n",
    "from sklearn.preprocessing import StandardScaler\n",
    "scaler=StandardScaler()\n",
    "scaler.fit(x)\n",
    "featureSc=scaler.transform(x)\n",
    "featureSc"
   ]
  },
  {
   "cell_type": "code",
   "execution_count": 232,
   "id": "1cd25620",
   "metadata": {},
   "outputs": [],
   "source": [
    "#Select and Train a model \n",
    "#Split train and test datase\n",
    "from sklearn.model_selection import train_test_split\n",
    "X_train, X_test, Y_train, Y_test = train_test_split(x, y, test_size=0.2, stratify=y)"
   ]
  },
  {
   "cell_type": "code",
   "execution_count": 233,
   "id": "3c73833c",
   "metadata": {},
   "outputs": [
    {
     "data": {
      "text/html": [
       "<div>\n",
       "<style scoped>\n",
       "    .dataframe tbody tr th:only-of-type {\n",
       "        vertical-align: middle;\n",
       "    }\n",
       "\n",
       "    .dataframe tbody tr th {\n",
       "        vertical-align: top;\n",
       "    }\n",
       "\n",
       "    .dataframe thead th {\n",
       "        text-align: right;\n",
       "    }\n",
       "</style>\n",
       "<table border=\"1\" class=\"dataframe\">\n",
       "  <thead>\n",
       "    <tr style=\"text-align: right;\">\n",
       "      <th></th>\n",
       "      <th>Life expectancy(years) (Country)</th>\n",
       "      <th>Number of take out places(City)</th>\n",
       "      <th>Outdoor activities(City)</th>\n",
       "      <th>Pollution(Index score) (City)</th>\n",
       "      <th>Annual avg. hours worked</th>\n",
       "      <th>Sunshine hours(City)</th>\n",
       "      <th>Cost of a bottle of water(City)</th>\n",
       "      <th>Obesity levels(Country)</th>\n",
       "      <th>Cost of a monthly gym membership(City)</th>\n",
       "    </tr>\n",
       "  </thead>\n",
       "  <tbody>\n",
       "    <tr>\n",
       "      <th>18</th>\n",
       "      <td>80.6</td>\n",
       "      <td>551</td>\n",
       "      <td>23</td>\n",
       "      <td>37.780000</td>\n",
       "      <td>1386.000000</td>\n",
       "      <td>1662.0</td>\n",
       "      <td>1.95</td>\n",
       "      <td>22.3</td>\n",
       "      <td>39.01</td>\n",
       "    </tr>\n",
       "    <tr>\n",
       "      <th>30</th>\n",
       "      <td>75.4</td>\n",
       "      <td>1257</td>\n",
       "      <td>277</td>\n",
       "      <td>67.460000</td>\n",
       "      <td>1672.909091</td>\n",
       "      <td>1836.0</td>\n",
       "      <td>0.75</td>\n",
       "      <td>6.2</td>\n",
       "      <td>57.95</td>\n",
       "    </tr>\n",
       "    <tr>\n",
       "      <th>20</th>\n",
       "      <td>81.9</td>\n",
       "      <td>420</td>\n",
       "      <td>139</td>\n",
       "      <td>47.280000</td>\n",
       "      <td>1898.000000</td>\n",
       "      <td>3311.0</td>\n",
       "      <td>1.63</td>\n",
       "      <td>26.1</td>\n",
       "      <td>58.31</td>\n",
       "    </tr>\n",
       "    <tr>\n",
       "      <th>26</th>\n",
       "      <td>78.8</td>\n",
       "      <td>588</td>\n",
       "      <td>88</td>\n",
       "      <td>27.030000</td>\n",
       "      <td>1779.000000</td>\n",
       "      <td>2634.0</td>\n",
       "      <td>1.39</td>\n",
       "      <td>36.2</td>\n",
       "      <td>46.27</td>\n",
       "    </tr>\n",
       "    <tr>\n",
       "      <th>14</th>\n",
       "      <td>81.7</td>\n",
       "      <td>1656</td>\n",
       "      <td>174</td>\n",
       "      <td>37.830000</td>\n",
       "      <td>1670.000000</td>\n",
       "      <td>2066.0</td>\n",
       "      <td>1.09</td>\n",
       "      <td>29.4</td>\n",
       "      <td>32.64</td>\n",
       "    </tr>\n",
       "    <tr>\n",
       "      <th>16</th>\n",
       "      <td>68.5</td>\n",
       "      <td>833</td>\n",
       "      <td>114</td>\n",
       "      <td>84.390000</td>\n",
       "      <td>1672.909091</td>\n",
       "      <td>2983.0</td>\n",
       "      <td>0.21</td>\n",
       "      <td>6.9</td>\n",
       "      <td>29.94</td>\n",
       "    </tr>\n",
       "    <tr>\n",
       "      <th>11</th>\n",
       "      <td>75.4</td>\n",
       "      <td>261</td>\n",
       "      <td>223</td>\n",
       "      <td>85.430000</td>\n",
       "      <td>1672.909091</td>\n",
       "      <td>2671.0</td>\n",
       "      <td>0.26</td>\n",
       "      <td>6.2</td>\n",
       "      <td>38.62</td>\n",
       "    </tr>\n",
       "    <tr>\n",
       "      <th>24</th>\n",
       "      <td>78.8</td>\n",
       "      <td>1439</td>\n",
       "      <td>223</td>\n",
       "      <td>66.070000</td>\n",
       "      <td>1779.000000</td>\n",
       "      <td>3254.0</td>\n",
       "      <td>1.52</td>\n",
       "      <td>36.2</td>\n",
       "      <td>32.00</td>\n",
       "    </tr>\n",
       "    <tr>\n",
       "      <th>0</th>\n",
       "      <td>81.2</td>\n",
       "      <td>1048</td>\n",
       "      <td>422</td>\n",
       "      <td>30.930000</td>\n",
       "      <td>1434.000000</td>\n",
       "      <td>1858.0</td>\n",
       "      <td>1.92</td>\n",
       "      <td>20.4</td>\n",
       "      <td>34.90</td>\n",
       "    </tr>\n",
       "    <tr>\n",
       "      <th>9</th>\n",
       "      <td>81.7</td>\n",
       "      <td>788</td>\n",
       "      <td>218</td>\n",
       "      <td>24.260000</td>\n",
       "      <td>1670.000000</td>\n",
       "      <td>1938.0</td>\n",
       "      <td>1.08</td>\n",
       "      <td>29.4</td>\n",
       "      <td>31.04</td>\n",
       "    </tr>\n",
       "    <tr>\n",
       "      <th>10</th>\n",
       "      <td>82.1</td>\n",
       "      <td>813</td>\n",
       "      <td>243</td>\n",
       "      <td>25.900000</td>\n",
       "      <td>1712.000000</td>\n",
       "      <td>2363.0</td>\n",
       "      <td>1.57</td>\n",
       "      <td>29.0</td>\n",
       "      <td>36.89</td>\n",
       "    </tr>\n",
       "    <tr>\n",
       "      <th>15</th>\n",
       "      <td>82.2</td>\n",
       "      <td>2491</td>\n",
       "      <td>216</td>\n",
       "      <td>52.680000</td>\n",
       "      <td>1686.000000</td>\n",
       "      <td>2769.0</td>\n",
       "      <td>1.30</td>\n",
       "      <td>23.8</td>\n",
       "      <td>34.54</td>\n",
       "    </tr>\n",
       "    <tr>\n",
       "      <th>36</th>\n",
       "      <td>82.6</td>\n",
       "      <td>538</td>\n",
       "      <td>69</td>\n",
       "      <td>17.310000</td>\n",
       "      <td>1557.000000</td>\n",
       "      <td>1566.0</td>\n",
       "      <td>3.20</td>\n",
       "      <td>19.5</td>\n",
       "      <td>73.11</td>\n",
       "    </tr>\n",
       "    <tr>\n",
       "      <th>3</th>\n",
       "      <td>81.8</td>\n",
       "      <td>598</td>\n",
       "      <td>129</td>\n",
       "      <td>19.630000</td>\n",
       "      <td>1452.000000</td>\n",
       "      <td>1821.0</td>\n",
       "      <td>1.72</td>\n",
       "      <td>20.6</td>\n",
       "      <td>37.31</td>\n",
       "    </tr>\n",
       "    <tr>\n",
       "      <th>42</th>\n",
       "      <td>69.5</td>\n",
       "      <td>3206</td>\n",
       "      <td>322</td>\n",
       "      <td>57.630000</td>\n",
       "      <td>1965.000000</td>\n",
       "      <td>1901.0</td>\n",
       "      <td>0.41</td>\n",
       "      <td>23.1</td>\n",
       "      <td>31.40</td>\n",
       "    </tr>\n",
       "    <tr>\n",
       "      <th>31</th>\n",
       "      <td>75.4</td>\n",
       "      <td>346</td>\n",
       "      <td>108</td>\n",
       "      <td>77.400000</td>\n",
       "      <td>1672.909091</td>\n",
       "      <td>1776.0</td>\n",
       "      <td>0.29</td>\n",
       "      <td>6.2</td>\n",
       "      <td>44.68</td>\n",
       "    </tr>\n",
       "    <tr>\n",
       "      <th>1</th>\n",
       "      <td>82.1</td>\n",
       "      <td>1103</td>\n",
       "      <td>406</td>\n",
       "      <td>26.860000</td>\n",
       "      <td>1712.000000</td>\n",
       "      <td>2636.0</td>\n",
       "      <td>1.48</td>\n",
       "      <td>29.0</td>\n",
       "      <td>41.66</td>\n",
       "    </tr>\n",
       "    <tr>\n",
       "      <th>17</th>\n",
       "      <td>81.3</td>\n",
       "      <td>389</td>\n",
       "      <td>144</td>\n",
       "      <td>57.820000</td>\n",
       "      <td>1967.000000</td>\n",
       "      <td>2066.0</td>\n",
       "      <td>0.59</td>\n",
       "      <td>4.7</td>\n",
       "      <td>43.03</td>\n",
       "    </tr>\n",
       "    <tr>\n",
       "      <th>7</th>\n",
       "      <td>80.6</td>\n",
       "      <td>1729</td>\n",
       "      <td>254</td>\n",
       "      <td>39.410000</td>\n",
       "      <td>1386.000000</td>\n",
       "      <td>1626.0</td>\n",
       "      <td>1.55</td>\n",
       "      <td>22.3</td>\n",
       "      <td>26.11</td>\n",
       "    </tr>\n",
       "    <tr>\n",
       "      <th>21</th>\n",
       "      <td>74.7</td>\n",
       "      <td>934</td>\n",
       "      <td>419</td>\n",
       "      <td>69.490000</td>\n",
       "      <td>1832.000000</td>\n",
       "      <td>2218.0</td>\n",
       "      <td>0.15</td>\n",
       "      <td>32.1</td>\n",
       "      <td>16.97</td>\n",
       "    </tr>\n",
       "    <tr>\n",
       "      <th>41</th>\n",
       "      <td>78.8</td>\n",
       "      <td>3081</td>\n",
       "      <td>359</td>\n",
       "      <td>57.360000</td>\n",
       "      <td>1779.000000</td>\n",
       "      <td>2535.0</td>\n",
       "      <td>1.32</td>\n",
       "      <td>36.2</td>\n",
       "      <td>64.66</td>\n",
       "    </tr>\n",
       "    <tr>\n",
       "      <th>32</th>\n",
       "      <td>80.4</td>\n",
       "      <td>988</td>\n",
       "      <td>55</td>\n",
       "      <td>62.670000</td>\n",
       "      <td>1583.000000</td>\n",
       "      <td>1546.0</td>\n",
       "      <td>2.11</td>\n",
       "      <td>22.1</td>\n",
       "      <td>25.34</td>\n",
       "    </tr>\n",
       "    <tr>\n",
       "      <th>35</th>\n",
       "      <td>73.9</td>\n",
       "      <td>3355</td>\n",
       "      <td>158</td>\n",
       "      <td>79.780000</td>\n",
       "      <td>1672.909091</td>\n",
       "      <td>2003.0</td>\n",
       "      <td>0.44</td>\n",
       "      <td>22.1</td>\n",
       "      <td>16.07</td>\n",
       "    </tr>\n",
       "    <tr>\n",
       "      <th>4</th>\n",
       "      <td>79.8</td>\n",
       "      <td>523</td>\n",
       "      <td>154</td>\n",
       "      <td>21.240000</td>\n",
       "      <td>1380.000000</td>\n",
       "      <td>1630.0</td>\n",
       "      <td>2.19</td>\n",
       "      <td>19.7</td>\n",
       "      <td>32.53</td>\n",
       "    </tr>\n",
       "    <tr>\n",
       "      <th>40</th>\n",
       "      <td>78.8</td>\n",
       "      <td>744</td>\n",
       "      <td>83</td>\n",
       "      <td>39.180000</td>\n",
       "      <td>1779.000000</td>\n",
       "      <td>2528.0</td>\n",
       "      <td>1.45</td>\n",
       "      <td>36.2</td>\n",
       "      <td>65.99</td>\n",
       "    </tr>\n",
       "    <tr>\n",
       "      <th>12</th>\n",
       "      <td>74.1</td>\n",
       "      <td>1796</td>\n",
       "      <td>377</td>\n",
       "      <td>76.640000</td>\n",
       "      <td>1672.909091</td>\n",
       "      <td>2624.0</td>\n",
       "      <td>0.22</td>\n",
       "      <td>10.0</td>\n",
       "      <td>50.03</td>\n",
       "    </tr>\n",
       "    <tr>\n",
       "      <th>6</th>\n",
       "      <td>83.2</td>\n",
       "      <td>539</td>\n",
       "      <td>35</td>\n",
       "      <td>51.122326</td>\n",
       "      <td>1644.000000</td>\n",
       "      <td>2769.0</td>\n",
       "      <td>0.78</td>\n",
       "      <td>4.3</td>\n",
       "      <td>55.87</td>\n",
       "    </tr>\n",
       "    <tr>\n",
       "      <th>13</th>\n",
       "      <td>75.9</td>\n",
       "      <td>1435</td>\n",
       "      <td>246</td>\n",
       "      <td>52.640000</td>\n",
       "      <td>1672.909091</td>\n",
       "      <td>2525.0</td>\n",
       "      <td>0.57</td>\n",
       "      <td>28.3</td>\n",
       "      <td>22.45</td>\n",
       "    </tr>\n",
       "    <tr>\n",
       "      <th>2</th>\n",
       "      <td>81.0</td>\n",
       "      <td>1008</td>\n",
       "      <td>132</td>\n",
       "      <td>17.330000</td>\n",
       "      <td>1501.000000</td>\n",
       "      <td>1884.0</td>\n",
       "      <td>1.94</td>\n",
       "      <td>20.1</td>\n",
       "      <td>25.74</td>\n",
       "    </tr>\n",
       "  </tbody>\n",
       "</table>\n",
       "</div>"
      ],
      "text/plain": [
       "    Life expectancy(years) (Country)  Number of take out places(City)  \\\n",
       "18                              80.6                              551   \n",
       "30                              75.4                             1257   \n",
       "20                              81.9                              420   \n",
       "26                              78.8                              588   \n",
       "14                              81.7                             1656   \n",
       "16                              68.5                              833   \n",
       "11                              75.4                              261   \n",
       "24                              78.8                             1439   \n",
       "0                               81.2                             1048   \n",
       "9                               81.7                              788   \n",
       "10                              82.1                              813   \n",
       "15                              82.2                             2491   \n",
       "36                              82.6                              538   \n",
       "3                               81.8                              598   \n",
       "42                              69.5                             3206   \n",
       "31                              75.4                              346   \n",
       "1                               82.1                             1103   \n",
       "17                              81.3                              389   \n",
       "7                               80.6                             1729   \n",
       "21                              74.7                              934   \n",
       "41                              78.8                             3081   \n",
       "32                              80.4                              988   \n",
       "35                              73.9                             3355   \n",
       "4                               79.8                              523   \n",
       "40                              78.8                              744   \n",
       "12                              74.1                             1796   \n",
       "6                               83.2                              539   \n",
       "13                              75.9                             1435   \n",
       "2                               81.0                             1008   \n",
       "\n",
       "    Outdoor activities(City)  Pollution(Index score) (City)  \\\n",
       "18                        23                      37.780000   \n",
       "30                       277                      67.460000   \n",
       "20                       139                      47.280000   \n",
       "26                        88                      27.030000   \n",
       "14                       174                      37.830000   \n",
       "16                       114                      84.390000   \n",
       "11                       223                      85.430000   \n",
       "24                       223                      66.070000   \n",
       "0                        422                      30.930000   \n",
       "9                        218                      24.260000   \n",
       "10                       243                      25.900000   \n",
       "15                       216                      52.680000   \n",
       "36                        69                      17.310000   \n",
       "3                        129                      19.630000   \n",
       "42                       322                      57.630000   \n",
       "31                       108                      77.400000   \n",
       "1                        406                      26.860000   \n",
       "17                       144                      57.820000   \n",
       "7                        254                      39.410000   \n",
       "21                       419                      69.490000   \n",
       "41                       359                      57.360000   \n",
       "32                        55                      62.670000   \n",
       "35                       158                      79.780000   \n",
       "4                        154                      21.240000   \n",
       "40                        83                      39.180000   \n",
       "12                       377                      76.640000   \n",
       "6                         35                      51.122326   \n",
       "13                       246                      52.640000   \n",
       "2                        132                      17.330000   \n",
       "\n",
       "    Annual avg. hours worked  Sunshine hours(City)  \\\n",
       "18               1386.000000                1662.0   \n",
       "30               1672.909091                1836.0   \n",
       "20               1898.000000                3311.0   \n",
       "26               1779.000000                2634.0   \n",
       "14               1670.000000                2066.0   \n",
       "16               1672.909091                2983.0   \n",
       "11               1672.909091                2671.0   \n",
       "24               1779.000000                3254.0   \n",
       "0                1434.000000                1858.0   \n",
       "9                1670.000000                1938.0   \n",
       "10               1712.000000                2363.0   \n",
       "15               1686.000000                2769.0   \n",
       "36               1557.000000                1566.0   \n",
       "3                1452.000000                1821.0   \n",
       "42               1965.000000                1901.0   \n",
       "31               1672.909091                1776.0   \n",
       "1                1712.000000                2636.0   \n",
       "17               1967.000000                2066.0   \n",
       "7                1386.000000                1626.0   \n",
       "21               1832.000000                2218.0   \n",
       "41               1779.000000                2535.0   \n",
       "32               1583.000000                1546.0   \n",
       "35               1672.909091                2003.0   \n",
       "4                1380.000000                1630.0   \n",
       "40               1779.000000                2528.0   \n",
       "12               1672.909091                2624.0   \n",
       "6                1644.000000                2769.0   \n",
       "13               1672.909091                2525.0   \n",
       "2                1501.000000                1884.0   \n",
       "\n",
       "    Cost of a bottle of water(City)  Obesity levels(Country)  \\\n",
       "18                             1.95                     22.3   \n",
       "30                             0.75                      6.2   \n",
       "20                             1.63                     26.1   \n",
       "26                             1.39                     36.2   \n",
       "14                             1.09                     29.4   \n",
       "16                             0.21                      6.9   \n",
       "11                             0.26                      6.2   \n",
       "24                             1.52                     36.2   \n",
       "0                              1.92                     20.4   \n",
       "9                              1.08                     29.4   \n",
       "10                             1.57                     29.0   \n",
       "15                             1.30                     23.8   \n",
       "36                             3.20                     19.5   \n",
       "3                              1.72                     20.6   \n",
       "42                             0.41                     23.1   \n",
       "31                             0.29                      6.2   \n",
       "1                              1.48                     29.0   \n",
       "17                             0.59                      4.7   \n",
       "7                              1.55                     22.3   \n",
       "21                             0.15                     32.1   \n",
       "41                             1.32                     36.2   \n",
       "32                             2.11                     22.1   \n",
       "35                             0.44                     22.1   \n",
       "4                              2.19                     19.7   \n",
       "40                             1.45                     36.2   \n",
       "12                             0.22                     10.0   \n",
       "6                              0.78                      4.3   \n",
       "13                             0.57                     28.3   \n",
       "2                              1.94                     20.1   \n",
       "\n",
       "    Cost of a monthly gym membership(City)  \n",
       "18                                   39.01  \n",
       "30                                   57.95  \n",
       "20                                   58.31  \n",
       "26                                   46.27  \n",
       "14                                   32.64  \n",
       "16                                   29.94  \n",
       "11                                   38.62  \n",
       "24                                   32.00  \n",
       "0                                    34.90  \n",
       "9                                    31.04  \n",
       "10                                   36.89  \n",
       "15                                   34.54  \n",
       "36                                   73.11  \n",
       "3                                    37.31  \n",
       "42                                   31.40  \n",
       "31                                   44.68  \n",
       "1                                    41.66  \n",
       "17                                   43.03  \n",
       "7                                    26.11  \n",
       "21                                   16.97  \n",
       "41                                   64.66  \n",
       "32                                   25.34  \n",
       "35                                   16.07  \n",
       "4                                    32.53  \n",
       "40                                   65.99  \n",
       "12                                   50.03  \n",
       "6                                    55.87  \n",
       "13                                   22.45  \n",
       "2                                    25.74  "
      ]
     },
     "execution_count": 233,
     "metadata": {},
     "output_type": "execute_result"
    }
   ],
   "source": [
    "X_train"
   ]
  },
  {
   "cell_type": "code",
   "execution_count": 234,
   "id": "c560f571",
   "metadata": {},
   "outputs": [
    {
     "data": {
      "text/html": [
       "<div>\n",
       "<style scoped>\n",
       "    .dataframe tbody tr th:only-of-type {\n",
       "        vertical-align: middle;\n",
       "    }\n",
       "\n",
       "    .dataframe tbody tr th {\n",
       "        vertical-align: top;\n",
       "    }\n",
       "\n",
       "    .dataframe thead th {\n",
       "        text-align: right;\n",
       "    }\n",
       "</style>\n",
       "<table border=\"1\" class=\"dataframe\">\n",
       "  <thead>\n",
       "    <tr style=\"text-align: right;\">\n",
       "      <th></th>\n",
       "      <th>Life expectancy(years) (Country)</th>\n",
       "      <th>Number of take out places(City)</th>\n",
       "      <th>Outdoor activities(City)</th>\n",
       "      <th>Pollution(Index score) (City)</th>\n",
       "      <th>Annual avg. hours worked</th>\n",
       "      <th>Sunshine hours(City)</th>\n",
       "      <th>Cost of a bottle of water(City)</th>\n",
       "      <th>Obesity levels(Country)</th>\n",
       "      <th>Cost of a monthly gym membership(City)</th>\n",
       "    </tr>\n",
       "  </thead>\n",
       "  <tbody>\n",
       "    <tr>\n",
       "      <th>29</th>\n",
       "      <td>78.8</td>\n",
       "      <td>1320</td>\n",
       "      <td>171</td>\n",
       "      <td>43.33</td>\n",
       "      <td>1779.000000</td>\n",
       "      <td>2508.000000</td>\n",
       "      <td>1.20</td>\n",
       "      <td>36.2</td>\n",
       "      <td>41.14</td>\n",
       "    </tr>\n",
       "    <tr>\n",
       "      <th>19</th>\n",
       "      <td>82.6</td>\n",
       "      <td>444</td>\n",
       "      <td>44</td>\n",
       "      <td>27.25</td>\n",
       "      <td>1557.000000</td>\n",
       "      <td>2245.860465</td>\n",
       "      <td>2.62</td>\n",
       "      <td>19.5</td>\n",
       "      <td>70.00</td>\n",
       "    </tr>\n",
       "    <tr>\n",
       "      <th>33</th>\n",
       "      <td>78.8</td>\n",
       "      <td>1031</td>\n",
       "      <td>242</td>\n",
       "      <td>47.36</td>\n",
       "      <td>1779.000000</td>\n",
       "      <td>3062.000000</td>\n",
       "      <td>1.60</td>\n",
       "      <td>36.2</td>\n",
       "      <td>65.13</td>\n",
       "    </tr>\n",
       "    <tr>\n",
       "      <th>5</th>\n",
       "      <td>80.4</td>\n",
       "      <td>309</td>\n",
       "      <td>113</td>\n",
       "      <td>13.08</td>\n",
       "      <td>1540.000000</td>\n",
       "      <td>1662.000000</td>\n",
       "      <td>1.60</td>\n",
       "      <td>22.2</td>\n",
       "      <td>35.23</td>\n",
       "    </tr>\n",
       "    <tr>\n",
       "      <th>22</th>\n",
       "      <td>70.7</td>\n",
       "      <td>250</td>\n",
       "      <td>323</td>\n",
       "      <td>91.74</td>\n",
       "      <td>1672.909091</td>\n",
       "      <td>3542.000000</td>\n",
       "      <td>0.16</td>\n",
       "      <td>32.0</td>\n",
       "      <td>23.25</td>\n",
       "    </tr>\n",
       "    <tr>\n",
       "      <th>27</th>\n",
       "      <td>80.5</td>\n",
       "      <td>659</td>\n",
       "      <td>159</td>\n",
       "      <td>40.07</td>\n",
       "      <td>1772.000000</td>\n",
       "      <td>1453.000000</td>\n",
       "      <td>1.40</td>\n",
       "      <td>25.3</td>\n",
       "      <td>37.35</td>\n",
       "    </tr>\n",
       "    <tr>\n",
       "      <th>23</th>\n",
       "      <td>75.4</td>\n",
       "      <td>717</td>\n",
       "      <td>134</td>\n",
       "      <td>49.32</td>\n",
       "      <td>1672.909091</td>\n",
       "      <td>1405.000000</td>\n",
       "      <td>0.57</td>\n",
       "      <td>6.2</td>\n",
       "      <td>34.76</td>\n",
       "    </tr>\n",
       "    <tr>\n",
       "      <th>39</th>\n",
       "      <td>82.7</td>\n",
       "      <td>2396</td>\n",
       "      <td>110</td>\n",
       "      <td>67.19</td>\n",
       "      <td>1718.000000</td>\n",
       "      <td>1915.000000</td>\n",
       "      <td>1.15</td>\n",
       "      <td>19.9</td>\n",
       "      <td>53.49</td>\n",
       "    </tr>\n",
       "  </tbody>\n",
       "</table>\n",
       "</div>"
      ],
      "text/plain": [
       "    Life expectancy(years) (Country)  Number of take out places(City)  \\\n",
       "29                              78.8                             1320   \n",
       "19                              82.6                              444   \n",
       "33                              78.8                             1031   \n",
       "5                               80.4                              309   \n",
       "22                              70.7                              250   \n",
       "27                              80.5                              659   \n",
       "23                              75.4                              717   \n",
       "39                              82.7                             2396   \n",
       "\n",
       "    Outdoor activities(City)  Pollution(Index score) (City)  \\\n",
       "29                       171                          43.33   \n",
       "19                        44                          27.25   \n",
       "33                       242                          47.36   \n",
       "5                        113                          13.08   \n",
       "22                       323                          91.74   \n",
       "27                       159                          40.07   \n",
       "23                       134                          49.32   \n",
       "39                       110                          67.19   \n",
       "\n",
       "    Annual avg. hours worked  Sunshine hours(City)  \\\n",
       "29               1779.000000           2508.000000   \n",
       "19               1557.000000           2245.860465   \n",
       "33               1779.000000           3062.000000   \n",
       "5                1540.000000           1662.000000   \n",
       "22               1672.909091           3542.000000   \n",
       "27               1772.000000           1453.000000   \n",
       "23               1672.909091           1405.000000   \n",
       "39               1718.000000           1915.000000   \n",
       "\n",
       "    Cost of a bottle of water(City)  Obesity levels(Country)  \\\n",
       "29                             1.20                     36.2   \n",
       "19                             2.62                     19.5   \n",
       "33                             1.60                     36.2   \n",
       "5                              1.60                     22.2   \n",
       "22                             0.16                     32.0   \n",
       "27                             1.40                     25.3   \n",
       "23                             0.57                      6.2   \n",
       "39                             1.15                     19.9   \n",
       "\n",
       "    Cost of a monthly gym membership(City)  \n",
       "29                                   41.14  \n",
       "19                                   70.00  \n",
       "33                                   65.13  \n",
       "5                                    35.23  \n",
       "22                                   23.25  \n",
       "27                                   37.35  \n",
       "23                                   34.76  \n",
       "39                                   53.49  "
      ]
     },
     "execution_count": 234,
     "metadata": {},
     "output_type": "execute_result"
    }
   ],
   "source": [
    "X_test"
   ]
  },
  {
   "cell_type": "code",
   "execution_count": 235,
   "id": "ef5bf9d3",
   "metadata": {},
   "outputs": [
    {
     "data": {
      "text/plain": [
       "18    1\n",
       "30    0\n",
       "20    1\n",
       "26    1\n",
       "14    1\n",
       "16    0\n",
       "11    0\n",
       "24    1\n",
       "0     1\n",
       "9     1\n",
       "10    1\n",
       "15    0\n",
       "36    1\n",
       "3     1\n",
       "42    0\n",
       "31    0\n",
       "1     1\n",
       "17    0\n",
       "7     1\n",
       "21    0\n",
       "41    1\n",
       "32    1\n",
       "35    0\n",
       "4     1\n",
       "40    1\n",
       "12    0\n",
       "6     0\n",
       "13    0\n",
       "2     1\n",
       "Name: Happiness levels(Country), dtype: int64"
      ]
     },
     "execution_count": 235,
     "metadata": {},
     "output_type": "execute_result"
    }
   ],
   "source": [
    "Y_train"
   ]
  },
  {
   "cell_type": "code",
   "execution_count": 236,
   "id": "970eb2c8",
   "metadata": {},
   "outputs": [
    {
     "data": {
      "text/plain": [
       "29    1\n",
       "19    1\n",
       "33    1\n",
       "5     1\n",
       "22    0\n",
       "27    1\n",
       "23    0\n",
       "39    0\n",
       "Name: Happiness levels(Country), dtype: int64"
      ]
     },
     "execution_count": 236,
     "metadata": {},
     "output_type": "execute_result"
    }
   ],
   "source": [
    "Y_test"
   ]
  },
  {
   "cell_type": "code",
   "execution_count": 237,
   "id": "5fc144c0",
   "metadata": {},
   "outputs": [
    {
     "data": {
      "text/plain": [
       "DecisionTreeClassifier(max_depth=3, min_samples_leaf=5, random_state=42)"
      ]
     },
     "execution_count": 237,
     "metadata": {},
     "output_type": "execute_result"
    }
   ],
   "source": [
    "#Decision tree classifer and then fit model\n",
    "import numpy as np\n",
    "from sklearn.model_selection import GridSearchCV\n",
    "from sklearn.tree import DecisionTreeClassifier\n",
    "clf_model = DecisionTreeClassifier(criterion=\"gini\", random_state=42,max_depth=3, min_samples_leaf=5)   \n",
    "clf_model.fit(X_train,Y_train)"
   ]
  },
  {
   "cell_type": "code",
   "execution_count": 238,
   "id": "07dcfa96",
   "metadata": {},
   "outputs": [
    {
     "data": {
      "text/plain": [
       "array([1, 1, 1, 1, 0, 1, 0, 1])"
      ]
     },
     "execution_count": 238,
     "metadata": {},
     "output_type": "execute_result"
    }
   ],
   "source": [
    "#predict the model\n",
    "y_predict = clf_model.predict(X_test)\n",
    "y_predict"
   ]
  },
  {
   "cell_type": "code",
   "execution_count": 239,
   "id": "fdbf43be",
   "metadata": {},
   "outputs": [
    {
     "data": {
      "text/plain": [
       "0.875"
      ]
     },
     "execution_count": 239,
     "metadata": {},
     "output_type": "execute_result"
    }
   ],
   "source": [
    "#accuracy score of model\n",
    "from sklearn.metrics import accuracy_score,classification_report,confusion_matrix\n",
    "clf_acc = accuracy_score(Y_test,y_predict)\n",
    "clf_acc"
   ]
  },
  {
   "cell_type": "code",
   "execution_count": 262,
   "id": "f0a7019d",
   "metadata": {},
   "outputs": [
    {
     "data": {
      "image/png": "[encoded data removed]",
      "text/plain": [
       "<Figure size 2160x2448 with 1 Axes>"
      ]
     },
     "metadata": {
      "needs_background": "light"
     },
     "output_type": "display_data"
    }
   ],
   "source": [
    "#Visualizing Decision Tree\n",
    "from sklearn.tree import plot_tree\n",
    "from sklearn import tree\n",
    "plt.figure(figsize=(30,34))\n",
    "tree.plot_tree(clf_model,filled=True,fontsize=26)\n",
    "plt.show()"
   ]
  },
  {
   "cell_type": "code",
   "execution_count": 240,
   "id": "86e7ccb6",
   "metadata": {},
   "outputs": [
    {
     "name": "stdout",
     "output_type": "stream",
     "text": [
      "Mean Absolute Error: 0.125\n",
      "Mean Squared Error: 0.125\n",
      "Root Mean Squared Error: 0.3535533905932738\n"
     ]
    }
   ],
   "source": [
    "#Metrics for dt\n",
    "from sklearn import metrics\n",
    "print('Mean Absolute Error:', metrics.mean_absolute_error(Y_test, y_predict))\n",
    "print('Mean Squared Error:', metrics.mean_squared_error(Y_test, y_predict))\n",
    "print('Root Mean Squared Error:', np.sqrt(metrics.mean_squared_error(Y_test, y_predict)))"
   ]
  },
  {
   "cell_type": "code",
   "execution_count": 241,
   "id": "2067fb6b",
   "metadata": {},
   "outputs": [
    {
     "data": {
      "text/plain": [
       "GridSearchCV(cv=5, estimator=RandomForestClassifier(),\n",
       "             param_grid={'n_estimators': [50, 100, 200]})"
      ]
     },
     "execution_count": 241,
     "metadata": {},
     "output_type": "execute_result"
    }
   ],
   "source": [
    "from sklearn.ensemble import RandomForestClassifier\n",
    "#create a new random forest classifier\n",
    "rf = RandomForestClassifier()\n",
    "#create a dictionary of all values we want to test for n_estimators\n",
    "params_rf = {'n_estimators': [50, 100, 200]}\n",
    "#use gridsearch to test all values for n_estimators\n",
    "rf_gs = GridSearchCV(rf, params_rf, cv=5)\n",
    "#fit model to training data\n",
    "rf_gs.fit(X_train, Y_train)"
   ]
  },
  {
   "cell_type": "code",
   "execution_count": 242,
   "id": "3b6129e1",
   "metadata": {},
   "outputs": [
    {
     "name": "stdout",
     "output_type": "stream",
     "text": [
      "{'n_estimators': 50}\n"
     ]
    }
   ],
   "source": [
    "#save best model\n",
    "rf_best = rf_gs.best_estimator_\n",
    "#check best n_estimators value\n",
    "print(rf_gs.best_params_)"
   ]
  },
  {
   "cell_type": "code",
   "execution_count": 243,
   "id": "ea599a1d",
   "metadata": {},
   "outputs": [
    {
     "data": {
      "text/plain": [
       "array([1, 1, 1, 1, 0, 1, 0, 0])"
      ]
     },
     "execution_count": 243,
     "metadata": {},
     "output_type": "execute_result"
    }
   ],
   "source": [
    "#predict model\n",
    "rf_pred = rf_gs.predict(X_test)\n",
    "rf_pred"
   ]
  },
  {
   "cell_type": "code",
   "execution_count": 244,
   "id": "c1804762",
   "metadata": {},
   "outputs": [
    {
     "name": "stdout",
     "output_type": "stream",
     "text": [
      "Mean Absolute Error: 0.0\n",
      "Mean Squared Error: 0.0\n",
      "Root Mean Squared Error: 0.0\n"
     ]
    }
   ],
   "source": [
    "#Metrics for random forest\n",
    "from sklearn import metrics\n",
    "print('Mean Absolute Error:', metrics.mean_absolute_error(Y_test, rf_pred))\n",
    "print('Mean Squared Error:', metrics.mean_squared_error(Y_test, rf_pred))\n",
    "print('Root Mean Squared Error:', np.sqrt(metrics.mean_squared_error(Y_test, rf_pred)))"
   ]
  },
  {
   "cell_type": "code",
   "execution_count": 245,
   "id": "4f0f83d8",
   "metadata": {},
   "outputs": [
    {
     "name": "stderr",
     "output_type": "stream",
     "text": [
      "/Users/roaa.fl/opt/anaconda3/lib/python3.9/site-packages/sklearn/linear_model/_logistic.py:763: ConvergenceWarning: lbfgs failed to converge (status=1):\n",
      "STOP: TOTAL NO. of ITERATIONS REACHED LIMIT.\n",
      "\n",
      "Increase the number of iterations (max_iter) or scale the data as shown in:\n",
      "    https://scikit-learn.org/stable/modules/preprocessing.html\n",
      "Please also refer to the documentation for alternative solver options:\n",
      "    https://scikit-learn.org/stable/modules/linear_model.html#logistic-regression\n",
      "  n_iter_i = _check_optimize_result(\n"
     ]
    },
    {
     "data": {
      "text/plain": [
       "LogisticRegression()"
      ]
     },
     "execution_count": 245,
     "metadata": {},
     "output_type": "execute_result"
    }
   ],
   "source": [
    "from sklearn.linear_model import LogisticRegression\n",
    "#create a new logistic regression model\n",
    "log_reg = LogisticRegression()\n",
    "#fit the model to the training data\n",
    "log_reg.fit(X_train, Y_train)"
   ]
  },
  {
   "cell_type": "code",
   "execution_count": 264,
   "id": "193e146f",
   "metadata": {},
   "outputs": [],
   "source": [
    "log_pred = log_reg.predict(X_test)"
   ]
  },
  {
   "cell_type": "code",
   "execution_count": 265,
   "id": "51142498",
   "metadata": {},
   "outputs": [
    {
     "name": "stdout",
     "output_type": "stream",
     "text": [
      "Mean Absolute Error: 0.125\n",
      "Mean Squared Error: 0.125\n",
      "Root Mean Squared Error: 0.3535533905932738\n"
     ]
    }
   ],
   "source": [
    "#metrics for logistic\n",
    "from sklearn import metrics\n",
    "print('Mean Absolute Error:', metrics.mean_absolute_error(Y_test, log_pred))\n",
    "print('Mean Squared Error:', metrics.mean_squared_error(Y_test, log_pred))\n",
    "print('Root Mean Squared Error:', np.sqrt(metrics.mean_squared_error(Y_test, log_pred)))"
   ]
  },
  {
   "cell_type": "code",
   "execution_count": 246,
   "id": "f130e42f",
   "metadata": {},
   "outputs": [],
   "source": [
    "#ANN: Neural network Multilayer Perceptron (MLP)\n",
    "from sklearn.neural_network import MLPClassifier\n",
    "\n",
    "MLP= MLPClassifier(random_state=1, max_iter=300)\n",
    "MLP.fit(X_train, Y_train)\n",
    "MLPpred= MLP.predict(X_test)"
   ]
  },
  {
   "cell_type": "code",
   "execution_count": 247,
   "id": "2adb60c1",
   "metadata": {},
   "outputs": [
    {
     "name": "stdout",
     "output_type": "stream",
     "text": [
      "Mean Absolute Error: 0.625\n",
      "Mean Squared Error: 0.625\n",
      "Root Mean Squared Error: 0.7905694150420949\n"
     ]
    }
   ],
   "source": [
    "#metrics for MLP\n",
    "from sklearn import metrics\n",
    "print('Mean Absolute Error:', metrics.mean_absolute_error(Y_test, MLPpred))\n",
    "print('Mean Squared Error:', metrics.mean_squared_error(Y_test, MLPpred))\n",
    "print('Root Mean Squared Error:', np.sqrt(metrics.mean_squared_error(Y_test, MLPpred)))"
   ]
  },
  {
   "cell_type": "code",
   "execution_count": 257,
   "id": "34e618b8",
   "metadata": {},
   "outputs": [],
   "source": [
    "from sklearn.model_selection import learning_curve\n",
    "def plotLearningCurves(X_train, Y_train, classifier, title):\n",
    "    train_sizes, train_scores, test_scores = learning_curve(classifier, X_train, Y_train, cv=5, scoring=\"accuracy\")\n",
    "    \n",
    "    train_scores_mean = np.mean(train_scores, axis=1)\n",
    "    train_scores_std = np.std(train_scores, axis=1)\n",
    "    test_scores_mean = np.mean(test_scores, axis=1)\n",
    "    test_scores_std = np.std(test_scores, axis=1)\n",
    "    \n",
    "    plt.plot(train_sizes, train_scores_mean, 'o-', color=\"b\" ,label=\"Training Error\")\n",
    "    plt.plot(train_sizes, test_scores_mean, 'o-', color=\"r\" ,label=\"Cross Validation Error\")\n",
    "    \n",
    "    plt.legend()\n",
    "    plt.grid()\n",
    "    plt.title(title, fontsize = 18, y = 1.03)\n",
    "    plt.xlabel('Data Size', fontsize = 14)\n",
    "    plt.ylabel('Error', fontsize = 14)\n",
    "    plt.tight_layout()"
   ]
  },
  {
   "cell_type": "code",
   "execution_count": 258,
   "id": "dc5df395",
   "metadata": {},
   "outputs": [
    {
     "name": "stderr",
     "output_type": "stream",
     "text": [
      "/Users/roaa.fl/opt/anaconda3/lib/python3.9/site-packages/sklearn/linear_model/_logistic.py:763: ConvergenceWarning: lbfgs failed to converge (status=1):\n",
      "STOP: TOTAL NO. of ITERATIONS REACHED LIMIT.\n",
      "\n",
      "Increase the number of iterations (max_iter) or scale the data as shown in:\n",
      "    https://scikit-learn.org/stable/modules/preprocessing.html\n",
      "Please also refer to the documentation for alternative solver options:\n",
      "    https://scikit-learn.org/stable/modules/linear_model.html#logistic-regression\n",
      "  n_iter_i = _check_optimize_result(\n",
      "/Users/roaa.fl/opt/anaconda3/lib/python3.9/site-packages/sklearn/linear_model/_logistic.py:763: ConvergenceWarning: lbfgs failed to converge (status=1):\n",
      "STOP: TOTAL NO. of ITERATIONS REACHED LIMIT.\n",
      "\n",
      "Increase the number of iterations (max_iter) or scale the data as shown in:\n",
      "    https://scikit-learn.org/stable/modules/preprocessing.html\n",
      "Please also refer to the documentation for alternative solver options:\n",
      "    https://scikit-learn.org/stable/modules/linear_model.html#logistic-regression\n",
      "  n_iter_i = _check_optimize_result(\n",
      "/Users/roaa.fl/opt/anaconda3/lib/python3.9/site-packages/sklearn/linear_model/_logistic.py:763: ConvergenceWarning: lbfgs failed to converge (status=1):\n",
      "STOP: TOTAL NO. of ITERATIONS REACHED LIMIT.\n",
      "\n",
      "Increase the number of iterations (max_iter) or scale the data as shown in:\n",
      "    https://scikit-learn.org/stable/modules/preprocessing.html\n",
      "Please also refer to the documentation for alternative solver options:\n",
      "    https://scikit-learn.org/stable/modules/linear_model.html#logistic-regression\n",
      "  n_iter_i = _check_optimize_result(\n",
      "/Users/roaa.fl/opt/anaconda3/lib/python3.9/site-packages/sklearn/linear_model/_logistic.py:763: ConvergenceWarning: lbfgs failed to converge (status=1):\n",
      "STOP: TOTAL NO. of ITERATIONS REACHED LIMIT.\n",
      "\n",
      "Increase the number of iterations (max_iter) or scale the data as shown in:\n",
      "    https://scikit-learn.org/stable/modules/preprocessing.html\n",
      "Please also refer to the documentation for alternative solver options:\n",
      "    https://scikit-learn.org/stable/modules/linear_model.html#logistic-regression\n",
      "  n_iter_i = _check_optimize_result(\n",
      "/Users/roaa.fl/opt/anaconda3/lib/python3.9/site-packages/sklearn/linear_model/_logistic.py:763: ConvergenceWarning: lbfgs failed to converge (status=1):\n",
      "STOP: TOTAL NO. of ITERATIONS REACHED LIMIT.\n",
      "\n",
      "Increase the number of iterations (max_iter) or scale the data as shown in:\n",
      "    https://scikit-learn.org/stable/modules/preprocessing.html\n",
      "Please also refer to the documentation for alternative solver options:\n",
      "    https://scikit-learn.org/stable/modules/linear_model.html#logistic-regression\n",
      "  n_iter_i = _check_optimize_result(\n",
      "/Users/roaa.fl/opt/anaconda3/lib/python3.9/site-packages/sklearn/linear_model/_logistic.py:763: ConvergenceWarning: lbfgs failed to converge (status=1):\n",
      "STOP: TOTAL NO. of ITERATIONS REACHED LIMIT.\n",
      "\n",
      "Increase the number of iterations (max_iter) or scale the data as shown in:\n",
      "    https://scikit-learn.org/stable/modules/preprocessing.html\n",
      "Please also refer to the documentation for alternative solver options:\n",
      "    https://scikit-learn.org/stable/modules/linear_model.html#logistic-regression\n",
      "  n_iter_i = _check_optimize_result(\n",
      "/Users/roaa.fl/opt/anaconda3/lib/python3.9/site-packages/sklearn/linear_model/_logistic.py:763: ConvergenceWarning: lbfgs failed to converge (status=1):\n",
      "STOP: TOTAL NO. of ITERATIONS REACHED LIMIT.\n",
      "\n",
      "Increase the number of iterations (max_iter) or scale the data as shown in:\n",
      "    https://scikit-learn.org/stable/modules/preprocessing.html\n",
      "Please also refer to the documentation for alternative solver options:\n",
      "    https://scikit-learn.org/stable/modules/linear_model.html#logistic-regression\n",
      "  n_iter_i = _check_optimize_result(\n",
      "/Users/roaa.fl/opt/anaconda3/lib/python3.9/site-packages/sklearn/linear_model/_logistic.py:763: ConvergenceWarning: lbfgs failed to converge (status=1):\n",
      "STOP: TOTAL NO. of ITERATIONS REACHED LIMIT.\n",
      "\n",
      "Increase the number of iterations (max_iter) or scale the data as shown in:\n",
      "    https://scikit-learn.org/stable/modules/preprocessing.html\n",
      "Please also refer to the documentation for alternative solver options:\n",
      "    https://scikit-learn.org/stable/modules/linear_model.html#logistic-regression\n",
      "  n_iter_i = _check_optimize_result(\n",
      "/Users/roaa.fl/opt/anaconda3/lib/python3.9/site-packages/sklearn/linear_model/_logistic.py:763: ConvergenceWarning: lbfgs failed to converge (status=1):\n",
      "STOP: TOTAL NO. of ITERATIONS REACHED LIMIT.\n",
      "\n",
      "Increase the number of iterations (max_iter) or scale the data as shown in:\n",
      "    https://scikit-learn.org/stable/modules/preprocessing.html\n",
      "Please also refer to the documentation for alternative solver options:\n",
      "    https://scikit-learn.org/stable/modules/linear_model.html#logistic-regression\n",
      "  n_iter_i = _check_optimize_result(\n"
     ]
    },
    {
     "data": {
      "image/png": "[encoded data removed]",
      "text/plain": [
       "<Figure size 1152x360 with 1 Axes>"
      ]
     },
     "metadata": {
      "needs_background": "light"
     },
     "output_type": "display_data"
    }
   ],
   "source": [
    "#visualization of Logistic regression Learning Curve\n",
    "import matplotlib.pyplot as plt\n",
    "from sklearn.model_selection import learning_curve\n",
    "plt.figure(figsize = (16,5))\n",
    "title = 'Logistic regression Learning Curve'\n",
    "plotLearningCurves(X_train, Y_train, log_reg, title)"
   ]
  },
  {
   "cell_type": "code",
   "execution_count": 259,
   "id": "9428ff2b",
   "metadata": {},
   "outputs": [
    {
     "data": {
      "image/png": "[encoded data removed]",
      "text/plain": [
       "<Figure size 1152x360 with 1 Axes>"
      ]
     },
     "metadata": {
      "needs_background": "light"
     },
     "output_type": "display_data"
    }
   ],
   "source": [
    "#visualization of MLP Learning Curve\n",
    "plt.figure(figsize = (16,5))\n",
    "title = 'MLP Learning Curve'\n",
    "plotLearningCurves(X_train, Y_train, MLP, title)"
   ]
  },
  {
   "cell_type": "code",
   "execution_count": 260,
   "id": "c8f4d033",
   "metadata": {},
   "outputs": [
    {
     "name": "stderr",
     "output_type": "stream",
     "text": [
      "/Users/roaa.fl/opt/anaconda3/lib/python3.9/site-packages/sklearn/model_selection/_validation.py:615: FitFailedWarning: Estimator fit failed. The score on this train-test partition for these parameters will be set to nan. Details: \n",
      "Traceback (most recent call last):\n",
      "  File \"/Users/roaa.fl/opt/anaconda3/lib/python3.9/site-packages/sklearn/model_selection/_validation.py\", line 598, in _fit_and_score\n",
      "    estimator.fit(X_train, y_train, **fit_params)\n",
      "  File \"/Users/roaa.fl/opt/anaconda3/lib/python3.9/site-packages/sklearn/utils/validation.py\", line 63, in inner_f\n",
      "    return f(*args, **kwargs)\n",
      "  File \"/Users/roaa.fl/opt/anaconda3/lib/python3.9/site-packages/sklearn/model_selection/_search.py\", line 841, in fit\n",
      "    self._run_search(evaluate_candidates)\n",
      "  File \"/Users/roaa.fl/opt/anaconda3/lib/python3.9/site-packages/sklearn/model_selection/_search.py\", line 1296, in _run_search\n",
      "    evaluate_candidates(ParameterGrid(self.param_grid))\n",
      "  File \"/Users/roaa.fl/opt/anaconda3/lib/python3.9/site-packages/sklearn/model_selection/_search.py\", line 807, in evaluate_candidates\n",
      "    (split_idx, (train, test)) in product(\n",
      "  File \"/Users/roaa.fl/opt/anaconda3/lib/python3.9/site-packages/sklearn/model_selection/_split.py\", line 327, in split\n",
      "    raise ValueError(\n",
      "ValueError: Cannot have number of splits n_splits=5 greater than the number of samples: n_samples=2.\n",
      "\n",
      "  warnings.warn(\"Estimator fit failed. The score on this train-test\"\n",
      "/Users/roaa.fl/opt/anaconda3/lib/python3.9/site-packages/sklearn/model_selection/_split.py:666: UserWarning: The least populated class in y has only 2 members, which is less than n_splits=5.\n",
      "  warnings.warn((\"The least populated class in y has only %d\"\n",
      "/Users/roaa.fl/opt/anaconda3/lib/python3.9/site-packages/sklearn/model_selection/_validation.py:615: FitFailedWarning: Estimator fit failed. The score on this train-test partition for these parameters will be set to nan. Details: \n",
      "Traceback (most recent call last):\n",
      "  File \"/Users/roaa.fl/opt/anaconda3/lib/python3.9/site-packages/sklearn/model_selection/_validation.py\", line 598, in _fit_and_score\n",
      "    estimator.fit(X_train, y_train, **fit_params)\n",
      "  File \"/Users/roaa.fl/opt/anaconda3/lib/python3.9/site-packages/sklearn/utils/validation.py\", line 63, in inner_f\n",
      "    return f(*args, **kwargs)\n",
      "  File \"/Users/roaa.fl/opt/anaconda3/lib/python3.9/site-packages/sklearn/model_selection/_search.py\", line 841, in fit\n",
      "    self._run_search(evaluate_candidates)\n",
      "  File \"/Users/roaa.fl/opt/anaconda3/lib/python3.9/site-packages/sklearn/model_selection/_search.py\", line 1296, in _run_search\n",
      "    evaluate_candidates(ParameterGrid(self.param_grid))\n",
      "  File \"/Users/roaa.fl/opt/anaconda3/lib/python3.9/site-packages/sklearn/model_selection/_search.py\", line 807, in evaluate_candidates\n",
      "    (split_idx, (train, test)) in product(\n",
      "  File \"/Users/roaa.fl/opt/anaconda3/lib/python3.9/site-packages/sklearn/model_selection/_split.py\", line 327, in split\n",
      "    raise ValueError(\n",
      "ValueError: Cannot have number of splits n_splits=5 greater than the number of samples: n_samples=2.\n",
      "\n",
      "  warnings.warn(\"Estimator fit failed. The score on this train-test\"\n",
      "/Users/roaa.fl/opt/anaconda3/lib/python3.9/site-packages/sklearn/model_selection/_split.py:666: UserWarning: The least populated class in y has only 2 members, which is less than n_splits=5.\n",
      "  warnings.warn((\"The least populated class in y has only %d\"\n",
      "/Users/roaa.fl/opt/anaconda3/lib/python3.9/site-packages/sklearn/model_selection/_validation.py:615: FitFailedWarning: Estimator fit failed. The score on this train-test partition for these parameters will be set to nan. Details: \n",
      "Traceback (most recent call last):\n",
      "  File \"/Users/roaa.fl/opt/anaconda3/lib/python3.9/site-packages/sklearn/model_selection/_validation.py\", line 598, in _fit_and_score\n",
      "    estimator.fit(X_train, y_train, **fit_params)\n",
      "  File \"/Users/roaa.fl/opt/anaconda3/lib/python3.9/site-packages/sklearn/utils/validation.py\", line 63, in inner_f\n",
      "    return f(*args, **kwargs)\n",
      "  File \"/Users/roaa.fl/opt/anaconda3/lib/python3.9/site-packages/sklearn/model_selection/_search.py\", line 841, in fit\n",
      "    self._run_search(evaluate_candidates)\n",
      "  File \"/Users/roaa.fl/opt/anaconda3/lib/python3.9/site-packages/sklearn/model_selection/_search.py\", line 1296, in _run_search\n",
      "    evaluate_candidates(ParameterGrid(self.param_grid))\n",
      "  File \"/Users/roaa.fl/opt/anaconda3/lib/python3.9/site-packages/sklearn/model_selection/_search.py\", line 807, in evaluate_candidates\n",
      "    (split_idx, (train, test)) in product(\n",
      "  File \"/Users/roaa.fl/opt/anaconda3/lib/python3.9/site-packages/sklearn/model_selection/_split.py\", line 327, in split\n",
      "    raise ValueError(\n",
      "ValueError: Cannot have number of splits n_splits=5 greater than the number of samples: n_samples=2.\n",
      "\n",
      "  warnings.warn(\"Estimator fit failed. The score on this train-test\"\n",
      "/Users/roaa.fl/opt/anaconda3/lib/python3.9/site-packages/sklearn/model_selection/_validation.py:615: FitFailedWarning: Estimator fit failed. The score on this train-test partition for these parameters will be set to nan. Details: \n",
      "Traceback (most recent call last):\n",
      "  File \"/Users/roaa.fl/opt/anaconda3/lib/python3.9/site-packages/sklearn/model_selection/_validation.py\", line 598, in _fit_and_score\n",
      "    estimator.fit(X_train, y_train, **fit_params)\n",
      "  File \"/Users/roaa.fl/opt/anaconda3/lib/python3.9/site-packages/sklearn/utils/validation.py\", line 63, in inner_f\n",
      "    return f(*args, **kwargs)\n",
      "  File \"/Users/roaa.fl/opt/anaconda3/lib/python3.9/site-packages/sklearn/model_selection/_search.py\", line 841, in fit\n",
      "    self._run_search(evaluate_candidates)\n",
      "  File \"/Users/roaa.fl/opt/anaconda3/lib/python3.9/site-packages/sklearn/model_selection/_search.py\", line 1296, in _run_search\n",
      "    evaluate_candidates(ParameterGrid(self.param_grid))\n",
      "  File \"/Users/roaa.fl/opt/anaconda3/lib/python3.9/site-packages/sklearn/model_selection/_search.py\", line 807, in evaluate_candidates\n",
      "    (split_idx, (train, test)) in product(\n",
      "  File \"/Users/roaa.fl/opt/anaconda3/lib/python3.9/site-packages/sklearn/model_selection/_split.py\", line 332, in split\n",
      "    for train, test in super().split(X, y, groups):\n",
      "  File \"/Users/roaa.fl/opt/anaconda3/lib/python3.9/site-packages/sklearn/model_selection/_split.py\", line 80, in split\n",
      "    for test_index in self._iter_test_masks(X, y, groups):\n",
      "  File \"/Users/roaa.fl/opt/anaconda3/lib/python3.9/site-packages/sklearn/model_selection/_split.py\", line 693, in _iter_test_masks\n",
      "    test_folds = self._make_test_folds(X, y)\n",
      "  File \"/Users/roaa.fl/opt/anaconda3/lib/python3.9/site-packages/sklearn/model_selection/_split.py\", line 662, in _make_test_folds\n",
      "    raise ValueError(\"n_splits=%d cannot be greater than the\"\n",
      "ValueError: n_splits=5 cannot be greater than the number of members in each class.\n",
      "\n",
      "  warnings.warn(\"Estimator fit failed. The score on this train-test\"\n",
      "/Users/roaa.fl/opt/anaconda3/lib/python3.9/site-packages/sklearn/model_selection/_split.py:666: UserWarning: The least populated class in y has only 4 members, which is less than n_splits=5.\n",
      "  warnings.warn((\"The least populated class in y has only %d\"\n",
      "/Users/roaa.fl/opt/anaconda3/lib/python3.9/site-packages/sklearn/model_selection/_validation.py:615: FitFailedWarning: Estimator fit failed. The score on this train-test partition for these parameters will be set to nan. Details: \n",
      "Traceback (most recent call last):\n",
      "  File \"/Users/roaa.fl/opt/anaconda3/lib/python3.9/site-packages/sklearn/model_selection/_validation.py\", line 598, in _fit_and_score\n",
      "    estimator.fit(X_train, y_train, **fit_params)\n",
      "  File \"/Users/roaa.fl/opt/anaconda3/lib/python3.9/site-packages/sklearn/utils/validation.py\", line 63, in inner_f\n",
      "    return f(*args, **kwargs)\n",
      "  File \"/Users/roaa.fl/opt/anaconda3/lib/python3.9/site-packages/sklearn/model_selection/_search.py\", line 841, in fit\n",
      "    self._run_search(evaluate_candidates)\n",
      "  File \"/Users/roaa.fl/opt/anaconda3/lib/python3.9/site-packages/sklearn/model_selection/_search.py\", line 1296, in _run_search\n",
      "    evaluate_candidates(ParameterGrid(self.param_grid))\n",
      "  File \"/Users/roaa.fl/opt/anaconda3/lib/python3.9/site-packages/sklearn/model_selection/_search.py\", line 807, in evaluate_candidates\n",
      "    (split_idx, (train, test)) in product(\n",
      "  File \"/Users/roaa.fl/opt/anaconda3/lib/python3.9/site-packages/sklearn/model_selection/_split.py\", line 327, in split\n",
      "    raise ValueError(\n",
      "ValueError: Cannot have number of splits n_splits=5 greater than the number of samples: n_samples=2.\n",
      "\n",
      "  warnings.warn(\"Estimator fit failed. The score on this train-test\"\n",
      "/Users/roaa.fl/opt/anaconda3/lib/python3.9/site-packages/sklearn/model_selection/_validation.py:615: FitFailedWarning: Estimator fit failed. The score on this train-test partition for these parameters will be set to nan. Details: \n",
      "Traceback (most recent call last):\n",
      "  File \"/Users/roaa.fl/opt/anaconda3/lib/python3.9/site-packages/sklearn/model_selection/_validation.py\", line 598, in _fit_and_score\n",
      "    estimator.fit(X_train, y_train, **fit_params)\n",
      "  File \"/Users/roaa.fl/opt/anaconda3/lib/python3.9/site-packages/sklearn/utils/validation.py\", line 63, in inner_f\n",
      "    return f(*args, **kwargs)\n",
      "  File \"/Users/roaa.fl/opt/anaconda3/lib/python3.9/site-packages/sklearn/model_selection/_search.py\", line 841, in fit\n",
      "    self._run_search(evaluate_candidates)\n",
      "  File \"/Users/roaa.fl/opt/anaconda3/lib/python3.9/site-packages/sklearn/model_selection/_search.py\", line 1296, in _run_search\n",
      "    evaluate_candidates(ParameterGrid(self.param_grid))\n",
      "  File \"/Users/roaa.fl/opt/anaconda3/lib/python3.9/site-packages/sklearn/model_selection/_search.py\", line 807, in evaluate_candidates\n",
      "    (split_idx, (train, test)) in product(\n",
      "  File \"/Users/roaa.fl/opt/anaconda3/lib/python3.9/site-packages/sklearn/model_selection/_split.py\", line 332, in split\n",
      "    for train, test in super().split(X, y, groups):\n",
      "  File \"/Users/roaa.fl/opt/anaconda3/lib/python3.9/site-packages/sklearn/model_selection/_split.py\", line 80, in split\n",
      "    for test_index in self._iter_test_masks(X, y, groups):\n",
      "  File \"/Users/roaa.fl/opt/anaconda3/lib/python3.9/site-packages/sklearn/model_selection/_split.py\", line 693, in _iter_test_masks\n",
      "    test_folds = self._make_test_folds(X, y)\n",
      "  File \"/Users/roaa.fl/opt/anaconda3/lib/python3.9/site-packages/sklearn/model_selection/_split.py\", line 662, in _make_test_folds\n",
      "    raise ValueError(\"n_splits=%d cannot be greater than the\"\n",
      "ValueError: n_splits=5 cannot be greater than the number of members in each class.\n",
      "\n",
      "  warnings.warn(\"Estimator fit failed. The score on this train-test\"\n",
      "/Users/roaa.fl/opt/anaconda3/lib/python3.9/site-packages/sklearn/model_selection/_split.py:666: UserWarning: The least populated class in y has only 4 members, which is less than n_splits=5.\n",
      "  warnings.warn((\"The least populated class in y has only %d\"\n"
     ]
    },
    {
     "name": "stderr",
     "output_type": "stream",
     "text": [
      "/Users/roaa.fl/opt/anaconda3/lib/python3.9/site-packages/sklearn/model_selection/_validation.py:615: FitFailedWarning: Estimator fit failed. The score on this train-test partition for these parameters will be set to nan. Details: \n",
      "Traceback (most recent call last):\n",
      "  File \"/Users/roaa.fl/opt/anaconda3/lib/python3.9/site-packages/sklearn/model_selection/_validation.py\", line 598, in _fit_and_score\n",
      "    estimator.fit(X_train, y_train, **fit_params)\n",
      "  File \"/Users/roaa.fl/opt/anaconda3/lib/python3.9/site-packages/sklearn/utils/validation.py\", line 63, in inner_f\n",
      "    return f(*args, **kwargs)\n",
      "  File \"/Users/roaa.fl/opt/anaconda3/lib/python3.9/site-packages/sklearn/model_selection/_search.py\", line 841, in fit\n",
      "    self._run_search(evaluate_candidates)\n",
      "  File \"/Users/roaa.fl/opt/anaconda3/lib/python3.9/site-packages/sklearn/model_selection/_search.py\", line 1296, in _run_search\n",
      "    evaluate_candidates(ParameterGrid(self.param_grid))\n",
      "  File \"/Users/roaa.fl/opt/anaconda3/lib/python3.9/site-packages/sklearn/model_selection/_search.py\", line 807, in evaluate_candidates\n",
      "    (split_idx, (train, test)) in product(\n",
      "  File \"/Users/roaa.fl/opt/anaconda3/lib/python3.9/site-packages/sklearn/model_selection/_split.py\", line 327, in split\n",
      "    raise ValueError(\n",
      "ValueError: Cannot have number of splits n_splits=5 greater than the number of samples: n_samples=2.\n",
      "\n",
      "  warnings.warn(\"Estimator fit failed. The score on this train-test\"\n",
      "/Users/roaa.fl/opt/anaconda3/lib/python3.9/site-packages/sklearn/model_selection/_validation.py:615: FitFailedWarning: Estimator fit failed. The score on this train-test partition for these parameters will be set to nan. Details: \n",
      "Traceback (most recent call last):\n",
      "  File \"/Users/roaa.fl/opt/anaconda3/lib/python3.9/site-packages/sklearn/model_selection/_validation.py\", line 598, in _fit_and_score\n",
      "    estimator.fit(X_train, y_train, **fit_params)\n",
      "  File \"/Users/roaa.fl/opt/anaconda3/lib/python3.9/site-packages/sklearn/utils/validation.py\", line 63, in inner_f\n",
      "    return f(*args, **kwargs)\n",
      "  File \"/Users/roaa.fl/opt/anaconda3/lib/python3.9/site-packages/sklearn/model_selection/_search.py\", line 841, in fit\n",
      "    self._run_search(evaluate_candidates)\n",
      "  File \"/Users/roaa.fl/opt/anaconda3/lib/python3.9/site-packages/sklearn/model_selection/_search.py\", line 1296, in _run_search\n",
      "    evaluate_candidates(ParameterGrid(self.param_grid))\n",
      "  File \"/Users/roaa.fl/opt/anaconda3/lib/python3.9/site-packages/sklearn/model_selection/_search.py\", line 807, in evaluate_candidates\n",
      "    (split_idx, (train, test)) in product(\n",
      "  File \"/Users/roaa.fl/opt/anaconda3/lib/python3.9/site-packages/sklearn/model_selection/_split.py\", line 332, in split\n",
      "    for train, test in super().split(X, y, groups):\n",
      "  File \"/Users/roaa.fl/opt/anaconda3/lib/python3.9/site-packages/sklearn/model_selection/_split.py\", line 80, in split\n",
      "    for test_index in self._iter_test_masks(X, y, groups):\n",
      "  File \"/Users/roaa.fl/opt/anaconda3/lib/python3.9/site-packages/sklearn/model_selection/_split.py\", line 693, in _iter_test_masks\n",
      "    test_folds = self._make_test_folds(X, y)\n",
      "  File \"/Users/roaa.fl/opt/anaconda3/lib/python3.9/site-packages/sklearn/model_selection/_split.py\", line 662, in _make_test_folds\n",
      "    raise ValueError(\"n_splits=%d cannot be greater than the\"\n",
      "ValueError: n_splits=5 cannot be greater than the number of members in each class.\n",
      "\n",
      "  warnings.warn(\"Estimator fit failed. The score on this train-test\"\n",
      "/Users/roaa.fl/opt/anaconda3/lib/python3.9/site-packages/sklearn/model_selection/_split.py:666: UserWarning: The least populated class in y has only 4 members, which is less than n_splits=5.\n",
      "  warnings.warn((\"The least populated class in y has only %d\"\n"
     ]
    },
    {
     "data": {
      "image/png": "[encoded data removed]",
      "text/plain": [
       "<Figure size 1152x360 with 1 Axes>"
      ]
     },
     "metadata": {
      "needs_background": "light"
     },
     "output_type": "display_data"
    }
   ],
   "source": [
    "#visualization of Random Forest Learning Curve\n",
    "plt.figure(figsize = (16,5))\n",
    "title = 'Random Forest Learning Curve'\n",
    "plotLearningCurves(X_train, Y_train, rf_gs, title)"
   ]
  },
  {
   "cell_type": "code",
   "execution_count": 261,
   "id": "41b721b7",
   "metadata": {},
   "outputs": [
    {
     "data": {
      "image/png": "[encoded data removed]",
      "text/plain": [
       "<Figure size 1152x360 with 1 Axes>"
      ]
     },
     "metadata": {
      "needs_background": "light"
     },
     "output_type": "display_data"
    }
   ],
   "source": [
    "#visualization of Decision tree Learning Curve\n",
    "plt.figure(figsize = (16,5))\n",
    "title = 'Decision tree Learning Curve'\n",
    "plotLearningCurves(X_train, Y_train, clf_model, title)"
   ]
  },
  {
   "cell_type": "code",
   "execution_count": 267,
   "id": "06373059",
   "metadata": {},
   "outputs": [
    {
     "name": "stdout",
     "output_type": "stream",
     "text": [
      "clf_model: 0.875\n",
      "rf: 1.0\n",
      "log_reg: 0.875\n",
      "MLP: 0.375\n"
     ]
    }
   ],
   "source": [
    "#test the four models with the test data and print their accuracy scores\n",
    "print('clf_model: {}'.format(clf_acc))\n",
    "print('rf: {}'.format(rf_best.score(X_test, Y_test)))\n",
    "print('log_reg: {}'.format(log_reg.score(X_test,Y_test)))\n",
    "print('MLP: {}'.format(MLP.score(X_test,Y_test)))"
   ]
  },
  {
   "cell_type": "code",
   "execution_count": 268,
   "id": "9c286a0e",
   "metadata": {},
   "outputs": [],
   "source": [
    "from sklearn.ensemble import VotingClassifier\n",
    "#create a dictionary of our models\n",
    "estimators=[('clf_model',clf_model), ('rf', rf_best), ('log_reg', log_reg), ('MLP', MLP)]\n",
    "#create our voting classifier, inputting our models\n",
    "ensemble = VotingClassifier(estimators, voting='hard')"
   ]
  },
  {
   "cell_type": "code",
   "execution_count": 269,
   "id": "2f27d725",
   "metadata": {},
   "outputs": [
    {
     "name": "stderr",
     "output_type": "stream",
     "text": [
      "/Users/roaa.fl/opt/anaconda3/lib/python3.9/site-packages/sklearn/linear_model/_logistic.py:763: ConvergenceWarning: lbfgs failed to converge (status=1):\n",
      "STOP: TOTAL NO. of ITERATIONS REACHED LIMIT.\n",
      "\n",
      "Increase the number of iterations (max_iter) or scale the data as shown in:\n",
      "    https://scikit-learn.org/stable/modules/preprocessing.html\n",
      "Please also refer to the documentation for alternative solver options:\n",
      "    https://scikit-learn.org/stable/modules/linear_model.html#logistic-regression\n",
      "  n_iter_i = _check_optimize_result(\n"
     ]
    },
    {
     "data": {
      "text/plain": [
       "0.875"
      ]
     },
     "execution_count": 269,
     "metadata": {},
     "output_type": "execute_result"
    }
   ],
   "source": [
    "#fit model to training data\n",
    "ensemble.fit(X_train, Y_train)\n",
    "#test our model on the test data\n",
    "ensemble.score(X_test, Y_test)"
   ]
  },
  {
   "cell_type": "code",
   "execution_count": 271,
   "id": "681ab0ed",
   "metadata": {},
   "outputs": [],
   "source": [
    "en_pred = ensemble.predict(X_test)"
   ]
  },
  {
   "cell_type": "code",
   "execution_count": 252,
   "id": "ba810f07",
   "metadata": {},
   "outputs": [
    {
     "name": "stdout",
     "output_type": "stream",
     "text": [
      "Mean Absolute Error: 0.125\n",
      "Mean Squared Error: 0.125\n",
      "Root Mean Squared Error: 0.3535533905932738\n"
     ]
    }
   ],
   "source": [
    "#metrics for ensemble\n",
    "from sklearn import metrics\n",
    "print('Mean Absolute Error:', metrics.mean_absolute_error(Y_test, en_pred))\n",
    "print('Mean Squared Error:', metrics.mean_squared_error(Y_test, en_pred))\n",
    "print('Root Mean Squared Error:', np.sqrt(metrics.mean_squared_error(Y_test, en_pred)))"
   ]
  },
  {
   "cell_type": "code",
   "execution_count": null,
   "id": "fc8510db",
   "metadata": {},
   "outputs": [],
   "source": []
  }
 ],
 "metadata": {
  "kernelspec": {
   "display_name": "Python 3 (ipykernel)",
   "language": "python",
   "name": "python3"
  },
  "language_info": {
   "codemirror_mode": {
    "name": "ipython",
    "version": 3
   },
   "file_extension": ".py",
   "mimetype": "text/x-python",
   "name": "python",
   "nbconvert_exporter": "python",
   "pygments_lexer": "ipython3",
   "version": "3.9.7"
  }
 },
 "nbformat": 4,
 "nbformat_minor": 5
}
